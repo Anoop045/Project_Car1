{
  "nbformat": 4,
  "nbformat_minor": 0,
  "metadata": {
    "colab": {
      "provenance": [],
      "collapsed_sections": []
    },
    "kernelspec": {
      "name": "python3",
      "display_name": "Python 3"
    },
    "language_info": {
      "name": "python"
    }
  },
  "cells": [
    {
      "cell_type": "code",
      "execution_count": 12,
      "metadata": {
        "id": "Gj5NlaWPPONl"
      },
      "outputs": [],
      "source": [
        "#Import required libraries\n",
        "import pandas as pd\n",
        "import numpy as np\n",
        "import seaborn as sns\n",
        "import matplotlib.pyplot as plt"
      ]
    },
    {
      "cell_type": "code",
      "source": [
        "data=pd.read_csv('dup_class.csv')\n",
        "data"
      ],
      "metadata": {
        "colab": {
          "base_uri": "https://localhost:8080/",
          "height": 488
        },
        "id": "Ix6AcVnIPXZZ",
        "outputId": "6d5a04bb-dd96-45ce-e364-634f5127a950"
      },
      "execution_count": 13,
      "outputs": [
        {
          "output_type": "execute_result",
          "data": {
            "text/plain": [
              "      ID  Comp  Circ  D.Circ  Rad.Ra  Pr.Axis.Ra  Max.L.Ra  Scat.Ra  Elong  \\\n",
              "0      1    88    39      70     166          66         7      148     44   \n",
              "1      2    85    35      64     129          57         6      116     57   \n",
              "2      3    91    41      84     141          57         9      149     45   \n",
              "3      4   102    54      98     177          56        10      219     31   \n",
              "4      5    87    39      74     152          58         6      151     44   \n",
              "..   ...   ...   ...     ...     ...         ...       ...      ...    ...   \n",
              "714  715   111    58     105     183          51         6      265     26   \n",
              "715  716    93    43      76     149          57         7      149     44   \n",
              "716  717    90    42      63     144          59         7      131     50   \n",
              "717  718   101    56     101     231          72        10      217     31   \n",
              "718  719    99    38      74     184          66         6      164     39   \n",
              "\n",
              "     Pr.Axis.Rect  Max.L.Rect  Sc.Var.Maxis  Sc.Var.maxis  Ra.Gyr  Skew.Maxis  \\\n",
              "0              19         134           167           332     143          69   \n",
              "1              17         125           138           200     123          65   \n",
              "2              19         143           170           330     158          72   \n",
              "3              25         171           219           706     223          72   \n",
              "4              19         136           174           337     140          70   \n",
              "..            ...         ...           ...           ...     ...         ...   \n",
              "714            29         174           285          1018     255          85   \n",
              "715            19         143           172           335     176          69   \n",
              "716            18         142           154           259     162          65   \n",
              "717            24         171           232           698     216          72   \n",
              "718            20         131           193           414     137          71   \n",
              "\n",
              "     Skew.maxis  Kurt.maxis  Kurt.Maxis  Holl.Ra  Class  \n",
              "0             5          13         193      201      0  \n",
              "1             1          23         196      203      3  \n",
              "2             9          14         189      199      3  \n",
              "3             5          17         186      196      1  \n",
              "4             1          33         187      196      2  \n",
              "..          ...         ...         ...      ...    ...  \n",
              "714           4           8         181      183      0  \n",
              "715          14           0         189      194      2  \n",
              "716          15           3         197      204      3  \n",
              "717           2           6         187      197      2  \n",
              "718           2          22         200      202      0  \n",
              "\n",
              "[719 rows x 20 columns]"
            ],
            "text/html": [
              "\n",
              "  <div id=\"df-8caeabb6-6487-4902-9215-dc3553ec545a\">\n",
              "    <div class=\"colab-df-container\">\n",
              "      <div>\n",
              "<style scoped>\n",
              "    .dataframe tbody tr th:only-of-type {\n",
              "        vertical-align: middle;\n",
              "    }\n",
              "\n",
              "    .dataframe tbody tr th {\n",
              "        vertical-align: top;\n",
              "    }\n",
              "\n",
              "    .dataframe thead th {\n",
              "        text-align: right;\n",
              "    }\n",
              "</style>\n",
              "<table border=\"1\" class=\"dataframe\">\n",
              "  <thead>\n",
              "    <tr style=\"text-align: right;\">\n",
              "      <th></th>\n",
              "      <th>ID</th>\n",
              "      <th>Comp</th>\n",
              "      <th>Circ</th>\n",
              "      <th>D.Circ</th>\n",
              "      <th>Rad.Ra</th>\n",
              "      <th>Pr.Axis.Ra</th>\n",
              "      <th>Max.L.Ra</th>\n",
              "      <th>Scat.Ra</th>\n",
              "      <th>Elong</th>\n",
              "      <th>Pr.Axis.Rect</th>\n",
              "      <th>Max.L.Rect</th>\n",
              "      <th>Sc.Var.Maxis</th>\n",
              "      <th>Sc.Var.maxis</th>\n",
              "      <th>Ra.Gyr</th>\n",
              "      <th>Skew.Maxis</th>\n",
              "      <th>Skew.maxis</th>\n",
              "      <th>Kurt.maxis</th>\n",
              "      <th>Kurt.Maxis</th>\n",
              "      <th>Holl.Ra</th>\n",
              "      <th>Class</th>\n",
              "    </tr>\n",
              "  </thead>\n",
              "  <tbody>\n",
              "    <tr>\n",
              "      <th>0</th>\n",
              "      <td>1</td>\n",
              "      <td>88</td>\n",
              "      <td>39</td>\n",
              "      <td>70</td>\n",
              "      <td>166</td>\n",
              "      <td>66</td>\n",
              "      <td>7</td>\n",
              "      <td>148</td>\n",
              "      <td>44</td>\n",
              "      <td>19</td>\n",
              "      <td>134</td>\n",
              "      <td>167</td>\n",
              "      <td>332</td>\n",
              "      <td>143</td>\n",
              "      <td>69</td>\n",
              "      <td>5</td>\n",
              "      <td>13</td>\n",
              "      <td>193</td>\n",
              "      <td>201</td>\n",
              "      <td>0</td>\n",
              "    </tr>\n",
              "    <tr>\n",
              "      <th>1</th>\n",
              "      <td>2</td>\n",
              "      <td>85</td>\n",
              "      <td>35</td>\n",
              "      <td>64</td>\n",
              "      <td>129</td>\n",
              "      <td>57</td>\n",
              "      <td>6</td>\n",
              "      <td>116</td>\n",
              "      <td>57</td>\n",
              "      <td>17</td>\n",
              "      <td>125</td>\n",
              "      <td>138</td>\n",
              "      <td>200</td>\n",
              "      <td>123</td>\n",
              "      <td>65</td>\n",
              "      <td>1</td>\n",
              "      <td>23</td>\n",
              "      <td>196</td>\n",
              "      <td>203</td>\n",
              "      <td>3</td>\n",
              "    </tr>\n",
              "    <tr>\n",
              "      <th>2</th>\n",
              "      <td>3</td>\n",
              "      <td>91</td>\n",
              "      <td>41</td>\n",
              "      <td>84</td>\n",
              "      <td>141</td>\n",
              "      <td>57</td>\n",
              "      <td>9</td>\n",
              "      <td>149</td>\n",
              "      <td>45</td>\n",
              "      <td>19</td>\n",
              "      <td>143</td>\n",
              "      <td>170</td>\n",
              "      <td>330</td>\n",
              "      <td>158</td>\n",
              "      <td>72</td>\n",
              "      <td>9</td>\n",
              "      <td>14</td>\n",
              "      <td>189</td>\n",
              "      <td>199</td>\n",
              "      <td>3</td>\n",
              "    </tr>\n",
              "    <tr>\n",
              "      <th>3</th>\n",
              "      <td>4</td>\n",
              "      <td>102</td>\n",
              "      <td>54</td>\n",
              "      <td>98</td>\n",
              "      <td>177</td>\n",
              "      <td>56</td>\n",
              "      <td>10</td>\n",
              "      <td>219</td>\n",
              "      <td>31</td>\n",
              "      <td>25</td>\n",
              "      <td>171</td>\n",
              "      <td>219</td>\n",
              "      <td>706</td>\n",
              "      <td>223</td>\n",
              "      <td>72</td>\n",
              "      <td>5</td>\n",
              "      <td>17</td>\n",
              "      <td>186</td>\n",
              "      <td>196</td>\n",
              "      <td>1</td>\n",
              "    </tr>\n",
              "    <tr>\n",
              "      <th>4</th>\n",
              "      <td>5</td>\n",
              "      <td>87</td>\n",
              "      <td>39</td>\n",
              "      <td>74</td>\n",
              "      <td>152</td>\n",
              "      <td>58</td>\n",
              "      <td>6</td>\n",
              "      <td>151</td>\n",
              "      <td>44</td>\n",
              "      <td>19</td>\n",
              "      <td>136</td>\n",
              "      <td>174</td>\n",
              "      <td>337</td>\n",
              "      <td>140</td>\n",
              "      <td>70</td>\n",
              "      <td>1</td>\n",
              "      <td>33</td>\n",
              "      <td>187</td>\n",
              "      <td>196</td>\n",
              "      <td>2</td>\n",
              "    </tr>\n",
              "    <tr>\n",
              "      <th>...</th>\n",
              "      <td>...</td>\n",
              "      <td>...</td>\n",
              "      <td>...</td>\n",
              "      <td>...</td>\n",
              "      <td>...</td>\n",
              "      <td>...</td>\n",
              "      <td>...</td>\n",
              "      <td>...</td>\n",
              "      <td>...</td>\n",
              "      <td>...</td>\n",
              "      <td>...</td>\n",
              "      <td>...</td>\n",
              "      <td>...</td>\n",
              "      <td>...</td>\n",
              "      <td>...</td>\n",
              "      <td>...</td>\n",
              "      <td>...</td>\n",
              "      <td>...</td>\n",
              "      <td>...</td>\n",
              "      <td>...</td>\n",
              "    </tr>\n",
              "    <tr>\n",
              "      <th>714</th>\n",
              "      <td>715</td>\n",
              "      <td>111</td>\n",
              "      <td>58</td>\n",
              "      <td>105</td>\n",
              "      <td>183</td>\n",
              "      <td>51</td>\n",
              "      <td>6</td>\n",
              "      <td>265</td>\n",
              "      <td>26</td>\n",
              "      <td>29</td>\n",
              "      <td>174</td>\n",
              "      <td>285</td>\n",
              "      <td>1018</td>\n",
              "      <td>255</td>\n",
              "      <td>85</td>\n",
              "      <td>4</td>\n",
              "      <td>8</td>\n",
              "      <td>181</td>\n",
              "      <td>183</td>\n",
              "      <td>0</td>\n",
              "    </tr>\n",
              "    <tr>\n",
              "      <th>715</th>\n",
              "      <td>716</td>\n",
              "      <td>93</td>\n",
              "      <td>43</td>\n",
              "      <td>76</td>\n",
              "      <td>149</td>\n",
              "      <td>57</td>\n",
              "      <td>7</td>\n",
              "      <td>149</td>\n",
              "      <td>44</td>\n",
              "      <td>19</td>\n",
              "      <td>143</td>\n",
              "      <td>172</td>\n",
              "      <td>335</td>\n",
              "      <td>176</td>\n",
              "      <td>69</td>\n",
              "      <td>14</td>\n",
              "      <td>0</td>\n",
              "      <td>189</td>\n",
              "      <td>194</td>\n",
              "      <td>2</td>\n",
              "    </tr>\n",
              "    <tr>\n",
              "      <th>716</th>\n",
              "      <td>717</td>\n",
              "      <td>90</td>\n",
              "      <td>42</td>\n",
              "      <td>63</td>\n",
              "      <td>144</td>\n",
              "      <td>59</td>\n",
              "      <td>7</td>\n",
              "      <td>131</td>\n",
              "      <td>50</td>\n",
              "      <td>18</td>\n",
              "      <td>142</td>\n",
              "      <td>154</td>\n",
              "      <td>259</td>\n",
              "      <td>162</td>\n",
              "      <td>65</td>\n",
              "      <td>15</td>\n",
              "      <td>3</td>\n",
              "      <td>197</td>\n",
              "      <td>204</td>\n",
              "      <td>3</td>\n",
              "    </tr>\n",
              "    <tr>\n",
              "      <th>717</th>\n",
              "      <td>718</td>\n",
              "      <td>101</td>\n",
              "      <td>56</td>\n",
              "      <td>101</td>\n",
              "      <td>231</td>\n",
              "      <td>72</td>\n",
              "      <td>10</td>\n",
              "      <td>217</td>\n",
              "      <td>31</td>\n",
              "      <td>24</td>\n",
              "      <td>171</td>\n",
              "      <td>232</td>\n",
              "      <td>698</td>\n",
              "      <td>216</td>\n",
              "      <td>72</td>\n",
              "      <td>2</td>\n",
              "      <td>6</td>\n",
              "      <td>187</td>\n",
              "      <td>197</td>\n",
              "      <td>2</td>\n",
              "    </tr>\n",
              "    <tr>\n",
              "      <th>718</th>\n",
              "      <td>719</td>\n",
              "      <td>99</td>\n",
              "      <td>38</td>\n",
              "      <td>74</td>\n",
              "      <td>184</td>\n",
              "      <td>66</td>\n",
              "      <td>6</td>\n",
              "      <td>164</td>\n",
              "      <td>39</td>\n",
              "      <td>20</td>\n",
              "      <td>131</td>\n",
              "      <td>193</td>\n",
              "      <td>414</td>\n",
              "      <td>137</td>\n",
              "      <td>71</td>\n",
              "      <td>2</td>\n",
              "      <td>22</td>\n",
              "      <td>200</td>\n",
              "      <td>202</td>\n",
              "      <td>0</td>\n",
              "    </tr>\n",
              "  </tbody>\n",
              "</table>\n",
              "<p>719 rows × 20 columns</p>\n",
              "</div>\n",
              "      <button class=\"colab-df-convert\" onclick=\"convertToInteractive('df-8caeabb6-6487-4902-9215-dc3553ec545a')\"\n",
              "              title=\"Convert this dataframe to an interactive table.\"\n",
              "              style=\"display:none;\">\n",
              "        \n",
              "  <svg xmlns=\"http://www.w3.org/2000/svg\" height=\"24px\"viewBox=\"0 0 24 24\"\n",
              "       width=\"24px\">\n",
              "    <path d=\"M0 0h24v24H0V0z\" fill=\"none\"/>\n",
              "    <path d=\"M18.56 5.44l.94 2.06.94-2.06 2.06-.94-2.06-.94-.94-2.06-.94 2.06-2.06.94zm-11 1L8.5 8.5l.94-2.06 2.06-.94-2.06-.94L8.5 2.5l-.94 2.06-2.06.94zm10 10l.94 2.06.94-2.06 2.06-.94-2.06-.94-.94-2.06-.94 2.06-2.06.94z\"/><path d=\"M17.41 7.96l-1.37-1.37c-.4-.4-.92-.59-1.43-.59-.52 0-1.04.2-1.43.59L10.3 9.45l-7.72 7.72c-.78.78-.78 2.05 0 2.83L4 21.41c.39.39.9.59 1.41.59.51 0 1.02-.2 1.41-.59l7.78-7.78 2.81-2.81c.8-.78.8-2.07 0-2.86zM5.41 20L4 18.59l7.72-7.72 1.47 1.35L5.41 20z\"/>\n",
              "  </svg>\n",
              "      </button>\n",
              "      \n",
              "  <style>\n",
              "    .colab-df-container {\n",
              "      display:flex;\n",
              "      flex-wrap:wrap;\n",
              "      gap: 12px;\n",
              "    }\n",
              "\n",
              "    .colab-df-convert {\n",
              "      background-color: #E8F0FE;\n",
              "      border: none;\n",
              "      border-radius: 50%;\n",
              "      cursor: pointer;\n",
              "      display: none;\n",
              "      fill: #1967D2;\n",
              "      height: 32px;\n",
              "      padding: 0 0 0 0;\n",
              "      width: 32px;\n",
              "    }\n",
              "\n",
              "    .colab-df-convert:hover {\n",
              "      background-color: #E2EBFA;\n",
              "      box-shadow: 0px 1px 2px rgba(60, 64, 67, 0.3), 0px 1px 3px 1px rgba(60, 64, 67, 0.15);\n",
              "      fill: #174EA6;\n",
              "    }\n",
              "\n",
              "    [theme=dark] .colab-df-convert {\n",
              "      background-color: #3B4455;\n",
              "      fill: #D2E3FC;\n",
              "    }\n",
              "\n",
              "    [theme=dark] .colab-df-convert:hover {\n",
              "      background-color: #434B5C;\n",
              "      box-shadow: 0px 1px 3px 1px rgba(0, 0, 0, 0.15);\n",
              "      filter: drop-shadow(0px 1px 2px rgba(0, 0, 0, 0.3));\n",
              "      fill: #FFFFFF;\n",
              "    }\n",
              "  </style>\n",
              "\n",
              "      <script>\n",
              "        const buttonEl =\n",
              "          document.querySelector('#df-8caeabb6-6487-4902-9215-dc3553ec545a button.colab-df-convert');\n",
              "        buttonEl.style.display =\n",
              "          google.colab.kernel.accessAllowed ? 'block' : 'none';\n",
              "\n",
              "        async function convertToInteractive(key) {\n",
              "          const element = document.querySelector('#df-8caeabb6-6487-4902-9215-dc3553ec545a');\n",
              "          const dataTable =\n",
              "            await google.colab.kernel.invokeFunction('convertToInteractive',\n",
              "                                                     [key], {});\n",
              "          if (!dataTable) return;\n",
              "\n",
              "          const docLinkHtml = 'Like what you see? Visit the ' +\n",
              "            '<a target=\"_blank\" href=https://colab.research.google.com/notebooks/data_table.ipynb>data table notebook</a>'\n",
              "            + ' to learn more about interactive tables.';\n",
              "          element.innerHTML = '';\n",
              "          dataTable['output_type'] = 'display_data';\n",
              "          await google.colab.output.renderOutput(dataTable, element);\n",
              "          const docLink = document.createElement('div');\n",
              "          docLink.innerHTML = docLinkHtml;\n",
              "          element.appendChild(docLink);\n",
              "        }\n",
              "      </script>\n",
              "    </div>\n",
              "  </div>\n",
              "  "
            ]
          },
          "metadata": {},
          "execution_count": 13
        }
      ]
    },
    {
      "cell_type": "code",
      "source": [
        "data.shape"
      ],
      "metadata": {
        "colab": {
          "base_uri": "https://localhost:8080/"
        },
        "id": "TNm-2w5vPaF4",
        "outputId": "7922cae9-c8c0-4ab1-e8c5-0fc49e71e1ae"
      },
      "execution_count": 14,
      "outputs": [
        {
          "output_type": "execute_result",
          "data": {
            "text/plain": [
              "(719, 20)"
            ]
          },
          "metadata": {},
          "execution_count": 14
        }
      ]
    },
    {
      "cell_type": "code",
      "source": [
        "data.info()"
      ],
      "metadata": {
        "colab": {
          "base_uri": "https://localhost:8080/"
        },
        "id": "nguvK54SPj_c",
        "outputId": "52091593-8dc7-4e2d-f850-f83902eeb64c"
      },
      "execution_count": 15,
      "outputs": [
        {
          "output_type": "stream",
          "name": "stdout",
          "text": [
            "<class 'pandas.core.frame.DataFrame'>\n",
            "RangeIndex: 719 entries, 0 to 718\n",
            "Data columns (total 20 columns):\n",
            " #   Column        Non-Null Count  Dtype\n",
            "---  ------        --------------  -----\n",
            " 0   ID            719 non-null    int64\n",
            " 1   Comp          719 non-null    int64\n",
            " 2   Circ          719 non-null    int64\n",
            " 3   D.Circ        719 non-null    int64\n",
            " 4   Rad.Ra        719 non-null    int64\n",
            " 5   Pr.Axis.Ra    719 non-null    int64\n",
            " 6   Max.L.Ra      719 non-null    int64\n",
            " 7   Scat.Ra       719 non-null    int64\n",
            " 8   Elong         719 non-null    int64\n",
            " 9   Pr.Axis.Rect  719 non-null    int64\n",
            " 10  Max.L.Rect    719 non-null    int64\n",
            " 11  Sc.Var.Maxis  719 non-null    int64\n",
            " 12  Sc.Var.maxis  719 non-null    int64\n",
            " 13  Ra.Gyr        719 non-null    int64\n",
            " 14  Skew.Maxis    719 non-null    int64\n",
            " 15  Skew.maxis    719 non-null    int64\n",
            " 16  Kurt.maxis    719 non-null    int64\n",
            " 17  Kurt.Maxis    719 non-null    int64\n",
            " 18  Holl.Ra       719 non-null    int64\n",
            " 19  Class         719 non-null    int64\n",
            "dtypes: int64(20)\n",
            "memory usage: 112.5 KB\n"
          ]
        }
      ]
    },
    {
      "cell_type": "markdown",
      "source": [
        "\n",
        "Observation\n",
        "1.  Total 719 data points and 20 attributes.\n",
        "2.  All the datatypes of features are same.\n",
        "\n"
      ],
      "metadata": {
        "id": "tUbe7VE6r9u-"
      }
    },
    {
      "cell_type": "code",
      "source": [
        "col=data.columns\n",
        "for i in col:\n",
        "  print(i,':',data[i].unique())\n",
        "  print('_________________________________________')"
      ],
      "metadata": {
        "colab": {
          "base_uri": "https://localhost:8080/"
        },
        "id": "OmEwL6juePsC",
        "outputId": "8aa65ba6-6f50-4a3d-ab1b-d0fb265fb76c"
      },
      "execution_count": 16,
      "outputs": [
        {
          "output_type": "stream",
          "name": "stdout",
          "text": [
            "ID : [  1   2   3   4   5   6   7   8   9  10  11  12  13  14  15  16  17  18\n",
            "  19  20  21  22  23  24  25  26  27  28  29  30  31  32  33  34  35  36\n",
            "  37  38  39  40  41  42  43  44  45  46  47  48  49  50  51  52  53  54\n",
            "  55  56  57  58  59  60  61  62  63  64  65  66  67  68  69  70  71  72\n",
            "  73  74  75  76  77  78  79  80  81  82  83  84  85  86  87  88  89  90\n",
            "  91  92  93  94  95  96  97  98  99 100 101 102 103 104 105 106 107 108\n",
            " 109 110 111 112 113 114 115 116 117 118 119 120 121 122 123 124 125 126\n",
            " 127 128 129 130 131 132 133 134 135 136 137 138 139 140 141 142 143 144\n",
            " 145 146 147 148 149 150 151 152 153 154 155 156 157 158 159 160 161 162\n",
            " 163 164 165 166 167 168 169 170 171 172 173 174 175 176 177 178 179 180\n",
            " 181 182 183 184 185 186 187 188 189 190 191 192 193 194 195 196 197 198\n",
            " 199 200 201 202 203 204 205 206 207 208 209 210 211 212 213 214 215 216\n",
            " 217 218 219 220 221 222 223 224 225 226 227 228 229 230 231 232 233 234\n",
            " 235 236 237 238 239 240 241 242 243 244 245 246 247 248 249 250 251 252\n",
            " 253 254 255 256 257 258 259 260 261 262 263 264 265 266 267 268 269 270\n",
            " 271 272 273 274 275 276 277 278 279 280 281 282 283 284 285 286 287 288\n",
            " 289 290 291 292 293 294 295 296 297 298 299 300 301 302 303 304 305 306\n",
            " 307 308 309 310 311 312 313 314 315 316 317 318 319 320 321 322 323 324\n",
            " 325 326 327 328 329 330 331 332 333 334 335 336 337 338 339 340 341 342\n",
            " 343 344 345 346 347 348 349 350 351 352 353 354 355 356 357 358 359 360\n",
            " 361 362 363 364 365 366 367 368 369 370 371 372 373 374 375 376 377 378\n",
            " 379 380 381 382 383 384 385 386 387 388 389 390 391 392 393 394 395 396\n",
            " 397 398 399 400 401 402 403 404 405 406 407 408 409 410 411 412 413 414\n",
            " 415 416 417 418 419 420 421 422 423 424 425 426 427 428 429 430 431 432\n",
            " 433 434 435 436 437 438 439 440 441 442 443 444 445 446 447 448 449 450\n",
            " 451 452 453 454 455 456 457 458 459 460 461 462 463 464 465 466 467 468\n",
            " 469 470 471 472 473 474 475 476 477 478 479 480 481 482 483 484 485 486\n",
            " 487 488 489 490 491 492 493 494 495 496 497 498 499 500 501 502 503 504\n",
            " 505 506 507 508 509 510 511 512 513 514 515 516 517 518 519 520 521 522\n",
            " 523 524 525 526 527 528 529 530 531 532 533 534 535 536 537 538 539 540\n",
            " 541 542 543 544 545 546 547 548 549 550 551 552 553 554 555 556 557 558\n",
            " 559 560 561 562 563 564 565 566 567 568 569 570 571 572 573 574 575 576\n",
            " 577 578 579 580 581 582 583 584 585 586 587 588 589 590 591 592 593 594\n",
            " 595 596 597 598 599 600 601 602 603 604 605 606 607 608 609 610 611 612\n",
            " 613 614 615 616 617 618 619 620 621 622 623 624 625 626 627 628 629 630\n",
            " 631 632 633 634 635 636 637 638 639 640 641 642 643 644 645 646 647 648\n",
            " 649 650 651 652 653 654 655 656 657 658 659 660 661 662 663 664 665 666\n",
            " 667 668 669 670 671 672 673 674 675 676 677 678 679 680 681 682 683 684\n",
            " 685 686 687 688 689 690 691 692 693 694 695 696 697 698 699 700 701 702\n",
            " 703 704 705 706 707 708 709 710 711 712 713 714 715 716 717 718 719]\n",
            "_________________________________________\n",
            "Comp : [ 88  85  91 102  87  95  97  96 107  86  89  92 104  81  94  93 111  82\n",
            " 106  99  78  83  84 100 109  90 101  79 117  98 105 108  80 103 110 112\n",
            "  77 115 119  73 114  76 113]\n",
            "_________________________________________\n",
            "Circ : [39 35 41 54 46 37 55 38 40 45 36 34 52 51 47 44 53 43 57 50 42 59 48 56\n",
            " 33 58 49]\n",
            "_________________________________________\n",
            "D.Circ : [ 70  64  84  98  74  76  66  89  58  83  78 109  71  53  82 103  59  68\n",
            " 100 101 104  63  69  77  96  92  81 105  73  88  80 107  72 106  85  65\n",
            "  79  75 108  87  86  54 110  47  90  40  95  60  61  93  94 102  62  91\n",
            "  52  44  57  55  51  49]\n",
            "_________________________________________\n",
            "Rad.Ra : [166 129 141 177 152 162 151 199 176 137 154 186 175 149 230 117 213 145\n",
            " 171 163 134 169 224 219 208 115 127 142 153 188 194 143 183 164 225 180\n",
            " 140 207 133 209 147 210 113 150 206 187 139 123 132 227 306 228 110 159\n",
            " 170 201 202 182 189 195 128 131 155 116 181 172 197 119 173 121 231 135\n",
            " 220 204 130 126 111 203 161 165 191 185 179 212 223 222 125 192 160 218\n",
            " 148 136 211 124 178 198 193 174 144 167 122 157 138 158 146 196 168 322\n",
            " 156 221 190 120 205 184 214 215 252 114 235 109 234 246 250 216 200 118\n",
            " 238 105 217 112 333 226]\n",
            "_________________________________________\n",
            "Pr.Axis.Ra : [ 66  57  56  58  64  74  59  73  60  55  67  61  71  50  63  68  51  54\n",
            "  75  62  70  65 126  53  69  52  97  48  72  49  47 133 103 105  76 102\n",
            " 138]\n",
            "_________________________________________\n",
            "Max.L.Ra : [ 7  6  9 10 11  8  5 12  4 49  3 13 22 46  2 48 52 25 55 43 19]\n",
            "_________________________________________\n",
            "Scat.Ra : [148 116 149 219 151 162 128 165 240 169 122 160 158 157 147 218 153 118\n",
            " 186 159 221 135 216 215 224 191 142 138 146 139 188 220 133 168 154 197\n",
            " 155 156 227 207 192 152 144 198 166 136 132 211 203 163 161 150 201 236\n",
            " 125 212 117 134 172 184 183 210 217 181 143 213 164 127 225 112 123 206\n",
            " 177 171 208 241 126 209 185 145 222 137 250 175 140 119 202 187 167 189\n",
            " 174 204 194 131 178 170 130 247 195 190 180 214 176 200 193 226 205 257\n",
            " 252 262 196 114 239 115 120 199 129 223 238 121 173 260 237 256 265]\n",
            "_________________________________________\n",
            "Elong : [44 57 45 31 42 52 39 27 54 41 30 35 43 51 47 49 48 50 46 33 32 40 28 38\n",
            " 36 34 53 61 29 55 58 37 26 56 59]\n",
            "_________________________________________\n",
            "Pr.Axis.Rect : [19 17 25 20 18 26 24 22 23 21 27 28 29]\n",
            "_________________________________________\n",
            "Max.L.Rect : [134 125 143 171 136 155 129 128 168 132 140 148 149 174 145 160 172 159\n",
            " 146 173 170 178 130 131 122 139 161 162 150 147 167 127 157 180 158 151\n",
            " 141 154 138 133 156 186 164 163 126 153 142 144 177 119 124 121 166 176\n",
            " 152 137 165 169 175 123 135 182 179 120 188 118]\n",
            "_________________________________________\n",
            "Sc.Var.Maxis : [167 138 170 219 174 175 148 188 258 190 146 185 180 168 230 177 204 227\n",
            " 173 151 225 222 228 210 162 155 158 165 159 206 247 153 193 226 171 214\n",
            " 166 234 223 181 208 169 161 189 184 172 231 272 256 136 147 197 203 211\n",
            " 236 186 213 164 154 156 130 262 141 137 179 217 235 202 200 176 232 196\n",
            " 199 182 265 229 160 149 218 152 163 220 139 221 157 280 209 195 140 216\n",
            " 212 194 238 183 191 142 266 143 207 224 187 215 150 178 275 237 269 285\n",
            " 144 134 241 240 264 135 192 145 205 267 246 287 288 320 263 254]\n",
            "_________________________________________\n",
            "Sc.Var.maxis : [ 332  200  330  706  337  381  246  419  866  428  225  382  379  370\n",
            "  321  347  205  533  371  727  368  264  336  686  679  737  543  299\n",
            "  274  364  284  319  289  530  731  266  426  305  713  362  596  359\n",
            "  349  756  314  635  373  546  311  285  586  339  415  275  383  260\n",
            "  663  318  625  732  404  374  611  346  833  352  229  668  203  322\n",
            "  259  445  523  506  661  696  492  307  673  427  402  578  310  324\n",
            "  240  741  184  776  221  348  197  325  712  367  631  677  711  326\n",
            "  622  716  485  351  718  425  757  504  366  450  320  342  272  629\n",
            "  391  666  327  870  237  253  684  258  363  671  335  524  389  583\n",
            "  607  406  707  653  220  701  265  277  281  928  721  455  517  323\n",
            "  472  294  212  610  520  340  418  290  526  333  308  535  722  602\n",
            "  682  208  624  287  361  460  282  341  576  685  252  385  355  703\n",
            "  487  262  306  301  494  334  408  511  642  680  589  249  658  375\n",
            "  396  438  648  256  433  338  358  273  376  892  223  331  572  261\n",
            "  270  369  312  329  279  298  534  691  608  238  545  309  669  670\n",
            "  434  345  639  254  489  300  388  725  263  440  476  595  600  665\n",
            "  687  562  354  315  317  465  748  644  255  296  271  657  344  479\n",
            "  645  956  356  728  401  904  219  512  627  567  987  692  209  601\n",
            "  518  694  365  674  471  233  681  416  241  697  709  513  574  268\n",
            "  195  409  700  251  280  710  726  357  597  430  719  575  206  204\n",
            "  328  650  717  855  558  278  678  196  387  372  508  469  343  393\n",
            "  527  587  563  459  641  446  675  247  467  227  232  243  708  857\n",
            "  230  704  766  968  623  923  605  473  458  954  295  350  640  481\n",
            "  245  390  651  570  218  521  844  612  399  304  676  224  405  478\n",
            "  207  688  360  250  216  417  621  729  613  683  291  429  667  638\n",
            "  435  616  413  242  463  982  211  720  316  559  480  752  525  378\n",
            "  598  636  474  838  466  579  966  422  735  557  505  519  222 1018\n",
            "  698  414]\n",
            "_________________________________________\n",
            "Ra.Gyr : [143 123 158 223 140 172 112 136 245 148 150 184 169 134 226 190 138 182\n",
            " 189 201 176 186 220 214 213 146 162 188 120 137 205 209 127 171 202 132\n",
            " 173 149 181 174 191 179 175 155 121 145 219 218 200 253 199 128 139 152\n",
            " 183 230 216 217 130 195 177 192 204 164 126 193 119 246 178 142 151 159\n",
            " 185 153 187 247 168 133 180 157 234 135 124 198 211 224 197 239 154 141\n",
            " 222 160 129 167 229 170 206 144 210 156 196 240 163 166 242 235 212 194\n",
            " 161 203 236 250 125 215 244 117 165 260 114 221 208 228 131 147 232 113\n",
            " 231 261 262 249 118 115 109 238 116 237 207 255]\n",
            "_________________________________________\n",
            "Skew.Maxis : [ 69  65  72  70  74  66  80  67  63  71  73  64  85  77  82  75  68  62\n",
            "  81  78 118  76  89  83  86  79  87  91  84  61  90  97  59 119 127  88\n",
            "  99  60 135]\n",
            "_________________________________________\n",
            "Skew.maxis : [ 5  1  9  8  6  3  7 10 16  4  2 15 11  0 14 12 13 21 19 17 20 18 22]\n",
            "_________________________________________\n",
            "Kurt.maxis : [13 23 14 17 33  4  2  3  1  5 11 12 24 22 15  6 20  0 29 28 21  8  7 10\n",
            " 19 18  9 32 16 27 25 26 38 36 30 35 41 31]\n",
            "_________________________________________\n",
            "Kurt.Maxis : [193 196 189 186 187 184 195 199 198 197 191 182 180 183 190 179 185 181\n",
            " 204 201 188 194 192 177 178 200 203 202 176]\n",
            "_________________________________________\n",
            "Holl.Ra : [201 203 199 196 193 200 184 202 206 191 197 187 183 198 194 185 189 195\n",
            " 190 210 209 186 204 207 188 208 205 192 182 211 181]\n",
            "_________________________________________\n",
            "Class : [0 3 1 2]\n",
            "_________________________________________\n"
          ]
        }
      ]
    },
    {
      "cell_type": "markdown",
      "source": [
        "\n",
        "\n",
        "*   By checking unique values of all features we can conclude that there are no missing or null values in the data.\n",
        "\n",
        "\n"
      ],
      "metadata": {
        "id": "tFNZjpoLse-G"
      }
    },
    {
      "cell_type": "code",
      "source": [],
      "metadata": {
        "id": "T1CHKPT6tGKB"
      },
      "execution_count": 16,
      "outputs": []
    },
    {
      "cell_type": "markdown",
      "source": [
        "#Pearson's Correlation"
      ],
      "metadata": {
        "id": "YzU5qsaDtGZk"
      }
    },
    {
      "cell_type": "code",
      "source": [
        "#By using pearson's correlation method find out the correlation between the features\n",
        "\n",
        "plt.figure(figsize=(20,12))\n",
        "cor=data.corr()\n",
        "sns.heatmap(cor,annot=True,cmap='coolwarm')"
      ],
      "metadata": {
        "colab": {
          "base_uri": "https://localhost:8080/",
          "height": 775
        },
        "id": "hpE-gV-uPk8W",
        "outputId": "e63ba15d-c154-488f-dbc4-a239e724798b"
      },
      "execution_count": 17,
      "outputs": [
        {
          "output_type": "execute_result",
          "data": {
            "text/plain": [
              "<matplotlib.axes._subplots.AxesSubplot at 0x7f0103ceaed0>"
            ]
          },
          "metadata": {},
          "execution_count": 17
        },
        {
          "output_type": "display_data",
          "data": {
            "text/plain": [
              "<Figure size 1440x864 with 2 Axes>"
            ],
            "image/png": "[encoded data removed]"
          },
          "metadata": {
            "needs_background": "light"
          }
        }
      ]
    },
    {
      "cell_type": "markdown",
      "source": [
        "From the above correlation matrix we observe that\n",
        "\n",
        "*   The features Kurt.Maxis and Holl.Ra are highly correlated to each other\n",
        "*   Scat.Ra,Pr.Axis.Rect,Sc.Var.maxis,Sc.Var.Maxis are also highly correlated to each other.\n",
        "\n",
        "When two features have high correlation to each other we can use any one of the feature by dropping the other.\n",
        "From above we use Kurt.Maxis and Sc.Var.maxis \n",
        "\n"
      ],
      "metadata": {
        "id": "Ue6fCzLbtEy5"
      }
    },
    {
      "cell_type": "code",
      "source": [
        "#We can check the correlated features by providing certain threshold value\n",
        "\n",
        "\n",
        "\n",
        "def pear_corr(dataset,value):\n",
        "  corr=set()\n",
        "  cor_matrix= dataset.corr()\n",
        "  for i in range(len(cor_matrix.columns)):\n",
        "    for j in range(i):\n",
        "      if (cor_matrix.iloc[i,j])>value:\n",
        "        col=cor_matrix.columns[i]\n",
        "        corr.add(col)\n",
        "  return corr"
      ],
      "metadata": {
        "id": "Q2YJzgChPk-m"
      },
      "execution_count": 18,
      "outputs": []
    },
    {
      "cell_type": "code",
      "source": [
        "#These are the features of having correlation above Threshold value.\n",
        "features=pear_corr(data,0.85)\n",
        "features"
      ],
      "metadata": {
        "colab": {
          "base_uri": "https://localhost:8080/"
        },
        "id": "YS3qhhlcebMv",
        "outputId": "25155ff5-a741-4926-ab32-58c707316995"
      },
      "execution_count": 19,
      "outputs": [
        {
          "output_type": "execute_result",
          "data": {
            "text/plain": [
              "{'Holl.Ra',\n",
              " 'Max.L.Rect',\n",
              " 'Pr.Axis.Rect',\n",
              " 'Ra.Gyr',\n",
              " 'Sc.Var.Maxis',\n",
              " 'Sc.Var.maxis',\n",
              " 'Scat.Ra'}"
            ]
          },
          "metadata": {},
          "execution_count": 19
        }
      ]
    },
    {
      "cell_type": "code",
      "source": [
        "drop_col=['Scat.Ra','Pr.Axis.Rect','Sc.Var.Maxis','Holl.Ra','ID']"
      ],
      "metadata": {
        "id": "jsWFxNG7t1TZ"
      },
      "execution_count": 20,
      "outputs": []
    },
    {
      "cell_type": "markdown",
      "source": [
        "#Recursive Feature Elimination"
      ],
      "metadata": {
        "id": "5P5azDblwKPq"
      }
    },
    {
      "cell_type": "code",
      "source": [
        "from sklearn.feature_selection import RFE\n",
        "from sklearn.tree import DecisionTreeClassifier"
      ],
      "metadata": {
        "id": "o2MuCzQ1ex_U"
      },
      "execution_count": 21,
      "outputs": []
    },
    {
      "cell_type": "code",
      "source": [
        "X=data.drop(columns=['Class'],axis=1)\n",
        "y=data['Class']\n",
        "\n",
        "rfe=RFE(estimator=DecisionTreeClassifier(),n_features_to_select=1)\n",
        "rfe.fit(X,y)"
      ],
      "metadata": {
        "colab": {
          "base_uri": "https://localhost:8080/"
        },
        "id": "nrkOWTYyeyBj",
        "outputId": "7377940b-33c9-4d65-d613-604f52eca68d"
      },
      "execution_count": 22,
      "outputs": [
        {
          "output_type": "execute_result",
          "data": {
            "text/plain": [
              "RFE(estimator=DecisionTreeClassifier(), n_features_to_select=1)"
            ]
          },
          "metadata": {},
          "execution_count": 22
        }
      ]
    },
    {
      "cell_type": "code",
      "source": [
        "rfe.support_"
      ],
      "metadata": {
        "colab": {
          "base_uri": "https://localhost:8080/"
        },
        "id": "m6dSuSQJeyE8",
        "outputId": "ddfb9642-a897-40cd-91bb-c6c17b77d58e"
      },
      "execution_count": 23,
      "outputs": [
        {
          "output_type": "execute_result",
          "data": {
            "text/plain": [
              "array([False, False, False, False, False, False, False, False, False,\n",
              "       False, False, False,  True, False, False, False, False, False,\n",
              "       False])"
            ]
          },
          "metadata": {},
          "execution_count": 23
        }
      ]
    },
    {
      "cell_type": "code",
      "source": [
        "#ranks of the features obtained by RFE method \n",
        "#Lower the rank higher will be the importance in modeling.\n",
        "\n",
        "l2=rfe.ranking_\n",
        "l2"
      ],
      "metadata": {
        "colab": {
          "base_uri": "https://localhost:8080/"
        },
        "id": "ul729CP6ebQP",
        "outputId": "faa536f3-5b51-484a-8f2f-049a84675892"
      },
      "execution_count": 24,
      "outputs": [
        {
          "output_type": "execute_result",
          "data": {
            "text/plain": [
              "array([17,  9, 13,  7, 12, 10,  2, 18,  5, 19,  3, 15,  1,  6, 11,  8, 14,\n",
              "        4, 16])"
            ]
          },
          "metadata": {},
          "execution_count": 24
        }
      ]
    },
    {
      "cell_type": "markdown",
      "source": [
        "Plotting feature importance rankings using Recursive Feature Elimination"
      ],
      "metadata": {
        "id": "4PpnjINWfA4U"
      }
    },
    {
      "cell_type": "code",
      "source": [
        "#Barplot to visualize important features \n",
        "cols=X.columns\n",
        "plt.figure(figsize=(10,6))\n",
        "vals=pd.Series(l2,index=cols)\n",
        "vals.sort_values(ascending=False,inplace=True)\n",
        "vals.plot.bar()"
      ],
      "metadata": {
        "colab": {
          "base_uri": "https://localhost:8080/",
          "height": 445
        },
        "id": "CIxf_HaffB1W",
        "outputId": "3f23fe8f-11ef-4adb-c973-10be73023fdd"
      },
      "execution_count": 25,
      "outputs": [
        {
          "output_type": "execute_result",
          "data": {
            "text/plain": [
              "<matplotlib.axes._subplots.AxesSubplot at 0x7f0102b46b90>"
            ]
          },
          "metadata": {},
          "execution_count": 25
        },
        {
          "output_type": "display_data",
          "data": {
            "text/plain": [
              "<Figure size 720x432 with 1 Axes>"
            ],
            "image/png": "[encoded data removed]"
          },
          "metadata": {
            "needs_background": "light"
          }
        }
      ]
    },
    {
      "cell_type": "markdown",
      "source": [
        "From RFE method and from pearsons correlation method we drop the columns Scat.Ra,  Pr.Axis.Rect,  Sc.Var.Maxis,  Holl.Ra and  ID."
      ],
      "metadata": {
        "id": "hiXx5HKTyElX"
      }
    },
    {
      "cell_type": "code",
      "source": [
        "drop_col=['Scat.Ra','Pr.Axis.Rect','Sc.Var.Maxis','Holl.Ra','ID']"
      ],
      "metadata": {
        "id": "Oh3FATAsPlCO"
      },
      "execution_count": 26,
      "outputs": []
    },
    {
      "cell_type": "code",
      "source": [
        "#Dropping the features from the data\n",
        "data=data.drop(drop_col,axis=1)"
      ],
      "metadata": {
        "id": "DPQjPGF8PoeM"
      },
      "execution_count": 27,
      "outputs": []
    },
    {
      "cell_type": "code",
      "source": [
        "data.info()"
      ],
      "metadata": {
        "colab": {
          "base_uri": "https://localhost:8080/"
        },
        "id": "xG0y4Vc-Psn6",
        "outputId": "ee0356c1-534d-4248-b647-18830cbc4d88"
      },
      "execution_count": 28,
      "outputs": [
        {
          "output_type": "stream",
          "name": "stdout",
          "text": [
            "<class 'pandas.core.frame.DataFrame'>\n",
            "RangeIndex: 719 entries, 0 to 718\n",
            "Data columns (total 15 columns):\n",
            " #   Column        Non-Null Count  Dtype\n",
            "---  ------        --------------  -----\n",
            " 0   Comp          719 non-null    int64\n",
            " 1   Circ          719 non-null    int64\n",
            " 2   D.Circ        719 non-null    int64\n",
            " 3   Rad.Ra        719 non-null    int64\n",
            " 4   Pr.Axis.Ra    719 non-null    int64\n",
            " 5   Max.L.Ra      719 non-null    int64\n",
            " 6   Elong         719 non-null    int64\n",
            " 7   Max.L.Rect    719 non-null    int64\n",
            " 8   Sc.Var.maxis  719 non-null    int64\n",
            " 9   Ra.Gyr        719 non-null    int64\n",
            " 10  Skew.Maxis    719 non-null    int64\n",
            " 11  Skew.maxis    719 non-null    int64\n",
            " 12  Kurt.maxis    719 non-null    int64\n",
            " 13  Kurt.Maxis    719 non-null    int64\n",
            " 14  Class         719 non-null    int64\n",
            "dtypes: int64(15)\n",
            "memory usage: 84.4 KB\n"
          ]
        }
      ]
    },
    {
      "cell_type": "code",
      "source": [
        "data.describe().T"
      ],
      "metadata": {
        "colab": {
          "base_uri": "https://localhost:8080/",
          "height": 520
        },
        "id": "GLPg07i0PxfD",
        "outputId": "9a69a9e9-7f9d-4442-f159-ae60d2a260a1"
      },
      "execution_count": 29,
      "outputs": [
        {
          "output_type": "execute_result",
          "data": {
            "text/plain": [
              "              count        mean         std    min    25%    50%    75%  \\\n",
              "Comp          719.0   93.435327    8.111406   73.0   87.0   93.0   99.0   \n",
              "Circ          719.0   44.851182    6.150286   33.0   40.0   44.0   49.0   \n",
              "D.Circ        719.0   81.723227   15.528208   40.0   70.0   79.0   96.0   \n",
              "Rad.Ra        719.0  168.579972   33.809172  105.0  141.0  166.0  194.5   \n",
              "Pr.Axis.Ra    719.0   61.847010    8.259136   47.0   57.0   61.0   65.0   \n",
              "Max.L.Ra      719.0    8.625869    4.916908    2.0    6.0    8.0   10.0   \n",
              "Elong         719.0   41.075104    7.764459   26.0   33.0   43.0   46.0   \n",
              "Max.L.Rect    719.0  148.030598   14.560092  118.0  137.0  146.0  159.0   \n",
              "Sc.Var.maxis  719.0  436.215577  174.964977  184.0  317.0  362.0  584.5   \n",
              "Ra.Gyr        719.0  174.726008   32.149568  109.0  149.0  174.0  198.0   \n",
              "Skew.Maxis    719.0   72.682893    7.542055   59.0   68.0   72.0   76.0   \n",
              "Skew.maxis    719.0    6.343533    4.856169    0.0    2.0    6.0    9.0   \n",
              "Kurt.maxis    719.0   12.394993    8.742511    0.0    5.5   11.0   18.0   \n",
              "Kurt.Maxis    719.0  188.798331    6.048522  176.0  184.0  188.0  193.0   \n",
              "Class         719.0    1.470097    1.126477    0.0    0.0    1.0    2.0   \n",
              "\n",
              "                 max  \n",
              "Comp           119.0  \n",
              "Circ            59.0  \n",
              "D.Circ         110.0  \n",
              "Rad.Ra         333.0  \n",
              "Pr.Axis.Ra     138.0  \n",
              "Max.L.Ra        55.0  \n",
              "Elong           61.0  \n",
              "Max.L.Rect     188.0  \n",
              "Sc.Var.maxis  1018.0  \n",
              "Ra.Gyr         262.0  \n",
              "Skew.Maxis     135.0  \n",
              "Skew.maxis      22.0  \n",
              "Kurt.maxis      41.0  \n",
              "Kurt.Maxis     204.0  \n",
              "Class            3.0  "
            ],
            "text/html": [
              "\n",
              "  <div id=\"df-416d21b9-fa42-4e90-9662-c4a2c3fdb6ab\">\n",
              "    <div class=\"colab-df-container\">\n",
              "      <div>\n",
              "<style scoped>\n",
              "    .dataframe tbody tr th:only-of-type {\n",
              "        vertical-align: middle;\n",
              "    }\n",
              "\n",
              "    .dataframe tbody tr th {\n",
              "        vertical-align: top;\n",
              "    }\n",
              "\n",
              "    .dataframe thead th {\n",
              "        text-align: right;\n",
              "    }\n",
              "</style>\n",
              "<table border=\"1\" class=\"dataframe\">\n",
              "  <thead>\n",
              "    <tr style=\"text-align: right;\">\n",
              "      <th></th>\n",
              "      <th>count</th>\n",
              "      <th>mean</th>\n",
              "      <th>std</th>\n",
              "      <th>min</th>\n",
              "      <th>25%</th>\n",
              "      <th>50%</th>\n",
              "      <th>75%</th>\n",
              "      <th>max</th>\n",
              "    </tr>\n",
              "  </thead>\n",
              "  <tbody>\n",
              "    <tr>\n",
              "      <th>Comp</th>\n",
              "      <td>719.0</td>\n",
              "      <td>93.435327</td>\n",
              "      <td>8.111406</td>\n",
              "      <td>73.0</td>\n",
              "      <td>87.0</td>\n",
              "      <td>93.0</td>\n",
              "      <td>99.0</td>\n",
              "      <td>119.0</td>\n",
              "    </tr>\n",
              "    <tr>\n",
              "      <th>Circ</th>\n",
              "      <td>719.0</td>\n",
              "      <td>44.851182</td>\n",
              "      <td>6.150286</td>\n",
              "      <td>33.0</td>\n",
              "      <td>40.0</td>\n",
              "      <td>44.0</td>\n",
              "      <td>49.0</td>\n",
              "      <td>59.0</td>\n",
              "    </tr>\n",
              "    <tr>\n",
              "      <th>D.Circ</th>\n",
              "      <td>719.0</td>\n",
              "      <td>81.723227</td>\n",
              "      <td>15.528208</td>\n",
              "      <td>40.0</td>\n",
              "      <td>70.0</td>\n",
              "      <td>79.0</td>\n",
              "      <td>96.0</td>\n",
              "      <td>110.0</td>\n",
              "    </tr>\n",
              "    <tr>\n",
              "      <th>Rad.Ra</th>\n",
              "      <td>719.0</td>\n",
              "      <td>168.579972</td>\n",
              "      <td>33.809172</td>\n",
              "      <td>105.0</td>\n",
              "      <td>141.0</td>\n",
              "      <td>166.0</td>\n",
              "      <td>194.5</td>\n",
              "      <td>333.0</td>\n",
              "    </tr>\n",
              "    <tr>\n",
              "      <th>Pr.Axis.Ra</th>\n",
              "      <td>719.0</td>\n",
              "      <td>61.847010</td>\n",
              "      <td>8.259136</td>\n",
              "      <td>47.0</td>\n",
              "      <td>57.0</td>\n",
              "      <td>61.0</td>\n",
              "      <td>65.0</td>\n",
              "      <td>138.0</td>\n",
              "    </tr>\n",
              "    <tr>\n",
              "      <th>Max.L.Ra</th>\n",
              "      <td>719.0</td>\n",
              "      <td>8.625869</td>\n",
              "      <td>4.916908</td>\n",
              "      <td>2.0</td>\n",
              "      <td>6.0</td>\n",
              "      <td>8.0</td>\n",
              "      <td>10.0</td>\n",
              "      <td>55.0</td>\n",
              "    </tr>\n",
              "    <tr>\n",
              "      <th>Elong</th>\n",
              "      <td>719.0</td>\n",
              "      <td>41.075104</td>\n",
              "      <td>7.764459</td>\n",
              "      <td>26.0</td>\n",
              "      <td>33.0</td>\n",
              "      <td>43.0</td>\n",
              "      <td>46.0</td>\n",
              "      <td>61.0</td>\n",
              "    </tr>\n",
              "    <tr>\n",
              "      <th>Max.L.Rect</th>\n",
              "      <td>719.0</td>\n",
              "      <td>148.030598</td>\n",
              "      <td>14.560092</td>\n",
              "      <td>118.0</td>\n",
              "      <td>137.0</td>\n",
              "      <td>146.0</td>\n",
              "      <td>159.0</td>\n",
              "      <td>188.0</td>\n",
              "    </tr>\n",
              "    <tr>\n",
              "      <th>Sc.Var.maxis</th>\n",
              "      <td>719.0</td>\n",
              "      <td>436.215577</td>\n",
              "      <td>174.964977</td>\n",
              "      <td>184.0</td>\n",
              "      <td>317.0</td>\n",
              "      <td>362.0</td>\n",
              "      <td>584.5</td>\n",
              "      <td>1018.0</td>\n",
              "    </tr>\n",
              "    <tr>\n",
              "      <th>Ra.Gyr</th>\n",
              "      <td>719.0</td>\n",
              "      <td>174.726008</td>\n",
              "      <td>32.149568</td>\n",
              "      <td>109.0</td>\n",
              "      <td>149.0</td>\n",
              "      <td>174.0</td>\n",
              "      <td>198.0</td>\n",
              "      <td>262.0</td>\n",
              "    </tr>\n",
              "    <tr>\n",
              "      <th>Skew.Maxis</th>\n",
              "      <td>719.0</td>\n",
              "      <td>72.682893</td>\n",
              "      <td>7.542055</td>\n",
              "      <td>59.0</td>\n",
              "      <td>68.0</td>\n",
              "      <td>72.0</td>\n",
              "      <td>76.0</td>\n",
              "      <td>135.0</td>\n",
              "    </tr>\n",
              "    <tr>\n",
              "      <th>Skew.maxis</th>\n",
              "      <td>719.0</td>\n",
              "      <td>6.343533</td>\n",
              "      <td>4.856169</td>\n",
              "      <td>0.0</td>\n",
              "      <td>2.0</td>\n",
              "      <td>6.0</td>\n",
              "      <td>9.0</td>\n",
              "      <td>22.0</td>\n",
              "    </tr>\n",
              "    <tr>\n",
              "      <th>Kurt.maxis</th>\n",
              "      <td>719.0</td>\n",
              "      <td>12.394993</td>\n",
              "      <td>8.742511</td>\n",
              "      <td>0.0</td>\n",
              "      <td>5.5</td>\n",
              "      <td>11.0</td>\n",
              "      <td>18.0</td>\n",
              "      <td>41.0</td>\n",
              "    </tr>\n",
              "    <tr>\n",
              "      <th>Kurt.Maxis</th>\n",
              "      <td>719.0</td>\n",
              "      <td>188.798331</td>\n",
              "      <td>6.048522</td>\n",
              "      <td>176.0</td>\n",
              "      <td>184.0</td>\n",
              "      <td>188.0</td>\n",
              "      <td>193.0</td>\n",
              "      <td>204.0</td>\n",
              "    </tr>\n",
              "    <tr>\n",
              "      <th>Class</th>\n",
              "      <td>719.0</td>\n",
              "      <td>1.470097</td>\n",
              "      <td>1.126477</td>\n",
              "      <td>0.0</td>\n",
              "      <td>0.0</td>\n",
              "      <td>1.0</td>\n",
              "      <td>2.0</td>\n",
              "      <td>3.0</td>\n",
              "    </tr>\n",
              "  </tbody>\n",
              "</table>\n",
              "</div>\n",
              "      <button class=\"colab-df-convert\" onclick=\"convertToInteractive('df-416d21b9-fa42-4e90-9662-c4a2c3fdb6ab')\"\n",
              "              title=\"Convert this dataframe to an interactive table.\"\n",
              "              style=\"display:none;\">\n",
              "        \n",
              "  <svg xmlns=\"http://www.w3.org/2000/svg\" height=\"24px\"viewBox=\"0 0 24 24\"\n",
              "       width=\"24px\">\n",
              "    <path d=\"M0 0h24v24H0V0z\" fill=\"none\"/>\n",
              "    <path d=\"M18.56 5.44l.94 2.06.94-2.06 2.06-.94-2.06-.94-.94-2.06-.94 2.06-2.06.94zm-11 1L8.5 8.5l.94-2.06 2.06-.94-2.06-.94L8.5 2.5l-.94 2.06-2.06.94zm10 10l.94 2.06.94-2.06 2.06-.94-2.06-.94-.94-2.06-.94 2.06-2.06.94z\"/><path d=\"M17.41 7.96l-1.37-1.37c-.4-.4-.92-.59-1.43-.59-.52 0-1.04.2-1.43.59L10.3 9.45l-7.72 7.72c-.78.78-.78 2.05 0 2.83L4 21.41c.39.39.9.59 1.41.59.51 0 1.02-.2 1.41-.59l7.78-7.78 2.81-2.81c.8-.78.8-2.07 0-2.86zM5.41 20L4 18.59l7.72-7.72 1.47 1.35L5.41 20z\"/>\n",
              "  </svg>\n",
              "      </button>\n",
              "      \n",
              "  <style>\n",
              "    .colab-df-container {\n",
              "      display:flex;\n",
              "      flex-wrap:wrap;\n",
              "      gap: 12px;\n",
              "    }\n",
              "\n",
              "    .colab-df-convert {\n",
              "      background-color: #E8F0FE;\n",
              "      border: none;\n",
              "      border-radius: 50%;\n",
              "      cursor: pointer;\n",
              "      display: none;\n",
              "      fill: #1967D2;\n",
              "      height: 32px;\n",
              "      padding: 0 0 0 0;\n",
              "      width: 32px;\n",
              "    }\n",
              "\n",
              "    .colab-df-convert:hover {\n",
              "      background-color: #E2EBFA;\n",
              "      box-shadow: 0px 1px 2px rgba(60, 64, 67, 0.3), 0px 1px 3px 1px rgba(60, 64, 67, 0.15);\n",
              "      fill: #174EA6;\n",
              "    }\n",
              "\n",
              "    [theme=dark] .colab-df-convert {\n",
              "      background-color: #3B4455;\n",
              "      fill: #D2E3FC;\n",
              "    }\n",
              "\n",
              "    [theme=dark] .colab-df-convert:hover {\n",
              "      background-color: #434B5C;\n",
              "      box-shadow: 0px 1px 3px 1px rgba(0, 0, 0, 0.15);\n",
              "      filter: drop-shadow(0px 1px 2px rgba(0, 0, 0, 0.3));\n",
              "      fill: #FFFFFF;\n",
              "    }\n",
              "  </style>\n",
              "\n",
              "      <script>\n",
              "        const buttonEl =\n",
              "          document.querySelector('#df-416d21b9-fa42-4e90-9662-c4a2c3fdb6ab button.colab-df-convert');\n",
              "        buttonEl.style.display =\n",
              "          google.colab.kernel.accessAllowed ? 'block' : 'none';\n",
              "\n",
              "        async function convertToInteractive(key) {\n",
              "          const element = document.querySelector('#df-416d21b9-fa42-4e90-9662-c4a2c3fdb6ab');\n",
              "          const dataTable =\n",
              "            await google.colab.kernel.invokeFunction('convertToInteractive',\n",
              "                                                     [key], {});\n",
              "          if (!dataTable) return;\n",
              "\n",
              "          const docLinkHtml = 'Like what you see? Visit the ' +\n",
              "            '<a target=\"_blank\" href=https://colab.research.google.com/notebooks/data_table.ipynb>data table notebook</a>'\n",
              "            + ' to learn more about interactive tables.';\n",
              "          element.innerHTML = '';\n",
              "          dataTable['output_type'] = 'display_data';\n",
              "          await google.colab.output.renderOutput(dataTable, element);\n",
              "          const docLink = document.createElement('div');\n",
              "          docLink.innerHTML = docLinkHtml;\n",
              "          element.appendChild(docLink);\n",
              "        }\n",
              "      </script>\n",
              "    </div>\n",
              "  </div>\n",
              "  "
            ]
          },
          "metadata": {},
          "execution_count": 29
        }
      ]
    },
    {
      "cell_type": "code",
      "source": [
        "#Plotting boxplot of the data\n",
        "plt.figure(figsize=(20,6))\n",
        "sns.boxplot(data=data)"
      ],
      "metadata": {
        "colab": {
          "base_uri": "https://localhost:8080/",
          "height": 391
        },
        "id": "sSpfMYwgP1-E",
        "outputId": "5c6343f0-49b8-40c7-e7ab-1f4e4578bb87"
      },
      "execution_count": 30,
      "outputs": [
        {
          "output_type": "execute_result",
          "data": {
            "text/plain": [
              "<matplotlib.axes._subplots.AxesSubplot at 0x7f0102b46610>"
            ]
          },
          "metadata": {},
          "execution_count": 30
        },
        {
          "output_type": "display_data",
          "data": {
            "text/plain": [
              "<Figure size 1440x432 with 1 Axes>"
            ],
            "image/png": "[encoded data removed]"
          },
          "metadata": {
            "needs_background": "light"
          }
        }
      ]
    },
    {
      "cell_type": "markdown",
      "source": [
        "Handling Ouliers using IQR method"
      ],
      "metadata": {
        "id": "adiJBRfzzqPs"
      }
    },
    {
      "cell_type": "code",
      "source": [
        "#From above plot there are outliers in the columns Rad.Ra, Pr.Axis.Ra, Max.L.Ra, Sc.Var.maxis\n",
        "cols2=['Rad.Ra','Pr.Axis.Ra','Sc.Var.maxis','Max.L.Ra']\n",
        "upper=[]\n",
        "lower=[]\n",
        "for col in cols2:\n",
        "  q1=data[col].quantile(0.25)\n",
        "  q3=data[col].quantile(0.75)\n",
        "  iqr=q3-q1\n",
        "  upper_limit = q3 + (1.5 * iqr)\n",
        "  lower_limit = q1 - (1.5 * iqr)\n",
        "  upper.append(upper_limit)\n",
        "  lower.append(lower_limit)\n",
        "lower"
      ],
      "metadata": {
        "colab": {
          "base_uri": "https://localhost:8080/"
        },
        "id": "cNvuzdWPQLff",
        "outputId": "83e1e987-331d-4dbd-a972-b417a42d00e5"
      },
      "execution_count": 31,
      "outputs": [
        {
          "output_type": "execute_result",
          "data": {
            "text/plain": [
              "[60.75, 45.0, -84.25, 0.0]"
            ]
          },
          "metadata": {},
          "execution_count": 31
        }
      ]
    },
    {
      "cell_type": "code",
      "source": [
        "#Creating new dataframe by removing outliers.\n",
        "new=data.loc[(data['Rad.Ra']< upper[0]) & (data['Rad.Ra']> lower[0])]\n",
        "new.shape"
      ],
      "metadata": {
        "colab": {
          "base_uri": "https://localhost:8080/"
        },
        "id": "raTKEDH-QUXG",
        "outputId": "6a49268d-32da-4351-a920-fc5b7379d9a6"
      },
      "execution_count": 32,
      "outputs": [
        {
          "output_type": "execute_result",
          "data": {
            "text/plain": [
              "(716, 15)"
            ]
          },
          "metadata": {},
          "execution_count": 32
        }
      ]
    },
    {
      "cell_type": "code",
      "source": [
        "plt.figure(figsize=(20,6))\n",
        "sns.boxplot(data=new)"
      ],
      "metadata": {
        "colab": {
          "base_uri": "https://localhost:8080/",
          "height": 391
        },
        "id": "_b7TakzKQdGq",
        "outputId": "2bd7d4e9-c36c-473f-9043-12337591f87f"
      },
      "execution_count": 33,
      "outputs": [
        {
          "output_type": "execute_result",
          "data": {
            "text/plain": [
              "<matplotlib.axes._subplots.AxesSubplot at 0x7f0102808510>"
            ]
          },
          "metadata": {},
          "execution_count": 33
        },
        {
          "output_type": "display_data",
          "data": {
            "text/plain": [
              "<Figure size 1440x432 with 1 Axes>"
            ],
            "image/png": "[encoded data removed]"
          },
          "metadata": {
            "needs_background": "light"
          }
        }
      ]
    },
    {
      "cell_type": "code",
      "source": [
        "new=new.loc[(new['Pr.Axis.Ra']< upper[1]) & (new['Rad.Ra']> lower[1])]\n",
        "new.shape"
      ],
      "metadata": {
        "colab": {
          "base_uri": "https://localhost:8080/"
        },
        "id": "6RleIT-DQeE6",
        "outputId": "bbee096d-be52-4134-bd7a-8c64457ea8ce"
      },
      "execution_count": 34,
      "outputs": [
        {
          "output_type": "execute_result",
          "data": {
            "text/plain": [
              "(711, 15)"
            ]
          },
          "metadata": {},
          "execution_count": 34
        }
      ]
    },
    {
      "cell_type": "code",
      "source": [
        "plt.figure(figsize=(20,6))\n",
        "sns.boxplot(data=new)\n"
      ],
      "metadata": {
        "colab": {
          "base_uri": "https://localhost:8080/",
          "height": 391
        },
        "id": "ANC48OfeQeHx",
        "outputId": "832de97b-b8b0-486c-da0f-1f52fe7ea636"
      },
      "execution_count": 35,
      "outputs": [
        {
          "output_type": "execute_result",
          "data": {
            "text/plain": [
              "<matplotlib.axes._subplots.AxesSubplot at 0x7f0102b6d1d0>"
            ]
          },
          "metadata": {},
          "execution_count": 35
        },
        {
          "output_type": "display_data",
          "data": {
            "text/plain": [
              "<Figure size 1440x432 with 1 Axes>"
            ],
            "image/png": "[encoded data removed]"
          },
          "metadata": {
            "needs_background": "light"
          }
        }
      ]
    },
    {
      "cell_type": "code",
      "source": [
        "new=new.loc[(new['Sc.Var.maxis']<= upper[2]) & (new['Sc.Var.maxis']>= lower[2])]\n",
        "new.shape"
      ],
      "metadata": {
        "colab": {
          "base_uri": "https://localhost:8080/"
        },
        "id": "spHaAJuGQeKc",
        "outputId": "4d14c8df-c6f9-4f1a-8bd4-3c037b24fbc1"
      },
      "execution_count": 36,
      "outputs": [
        {
          "output_type": "execute_result",
          "data": {
            "text/plain": [
              "(709, 15)"
            ]
          },
          "metadata": {},
          "execution_count": 36
        }
      ]
    },
    {
      "cell_type": "code",
      "source": [
        "plt.figure(figsize=(20,6))\n",
        "sns.boxplot(data=new)"
      ],
      "metadata": {
        "colab": {
          "base_uri": "https://localhost:8080/",
          "height": 391
        },
        "id": "mbboQf5fQeMx",
        "outputId": "25fa413d-ac17-453c-d196-99ae11eb29eb"
      },
      "execution_count": 37,
      "outputs": [
        {
          "output_type": "execute_result",
          "data": {
            "text/plain": [
              "<matplotlib.axes._subplots.AxesSubplot at 0x7f01024832d0>"
            ]
          },
          "metadata": {},
          "execution_count": 37
        },
        {
          "output_type": "display_data",
          "data": {
            "text/plain": [
              "<Figure size 1440x432 with 1 Axes>"
            ],
            "image/png": "[encoded data removed]"
          },
          "metadata": {
            "needs_background": "light"
          }
        }
      ]
    },
    {
      "cell_type": "code",
      "source": [
        "new=new.loc[(new['Max.L.Ra']< upper[3]) & (new['Max.L.Ra']> lower[3])]\n",
        "new.shape"
      ],
      "metadata": {
        "colab": {
          "base_uri": "https://localhost:8080/"
        },
        "id": "baQXGg2kQePH",
        "outputId": "3af26b8a-b3f9-4774-c960-f63be4acc8bc"
      },
      "execution_count": 38,
      "outputs": [
        {
          "output_type": "execute_result",
          "data": {
            "text/plain": [
              "(705, 15)"
            ]
          },
          "metadata": {},
          "execution_count": 38
        }
      ]
    },
    {
      "cell_type": "code",
      "source": [
        "plt.figure(figsize=(20,6))\n",
        "sns.boxplot(data=new)"
      ],
      "metadata": {
        "colab": {
          "base_uri": "https://localhost:8080/",
          "height": 391
        },
        "id": "yQLesKZGQeSh",
        "outputId": "c81effb2-8bf6-40d6-e405-b1b98a2819ea"
      },
      "execution_count": 39,
      "outputs": [
        {
          "output_type": "execute_result",
          "data": {
            "text/plain": [
              "<matplotlib.axes._subplots.AxesSubplot at 0x7f0102300450>"
            ]
          },
          "metadata": {},
          "execution_count": 39
        },
        {
          "output_type": "display_data",
          "data": {
            "text/plain": [
              "<Figure size 1440x432 with 1 Axes>"
            ],
            "image/png": "[encoded data removed]"
          },
          "metadata": {
            "needs_background": "light"
          }
        }
      ]
    },
    {
      "cell_type": "markdown",
      "source": [
        "Now the outliers are handled"
      ],
      "metadata": {
        "id": "0TAzmeq30DbJ"
      }
    },
    {
      "cell_type": "code",
      "source": [
        "new.reset_index(drop=True,inplace=True)\n",
        "X=new.drop(columns=['Class'],axis=1)\n",
        "y=new['Class']"
      ],
      "metadata": {
        "id": "wQ9QindfRgLY"
      },
      "execution_count": 40,
      "outputs": []
    },
    {
      "cell_type": "markdown",
      "source": [
        "#Spliting the data into train and test"
      ],
      "metadata": {
        "id": "jhHLSsRp0dOl"
      }
    },
    {
      "cell_type": "code",
      "source": [
        "from sklearn.model_selection import train_test_split\n",
        "X_train,X_test,y_train,y_test=train_test_split(X,y,test_size=0.2,random_state=1)"
      ],
      "metadata": {
        "id": "IOPGQma7RjVs"
      },
      "execution_count": 41,
      "outputs": []
    },
    {
      "cell_type": "markdown",
      "source": [
        "#Feature Scaling"
      ],
      "metadata": {
        "id": "WkxXL4QE0l1G"
      }
    },
    {
      "cell_type": "code",
      "source": [
        "#By using Standardscaler features are scaled so that we can train our model better.\n",
        "from sklearn.preprocessing import StandardScaler\n",
        "sc=StandardScaler()\n",
        "X_train=sc.fit_transform(X_train)\n",
        "X_test=sc.transform(X_test)\n"
      ],
      "metadata": {
        "id": "udBknNYmRsM1"
      },
      "execution_count": 42,
      "outputs": []
    },
    {
      "cell_type": "code",
      "source": [
        "#import required libraries for training the model\n",
        "\n",
        "from sklearn.linear_model import LogisticRegression,SGDClassifier\n",
        "from sklearn.svm import SVC\n",
        "from sklearn.neighbors import KNeighborsClassifier\n",
        "from sklearn.tree import DecisionTreeClassifier\n",
        "from sklearn.ensemble import RandomForestClassifier,GradientBoostingClassifier\n",
        "\n",
        "#importing metrics to find accuracy\n",
        "from sklearn.metrics import f1_score,plot_confusion_matrix"
      ],
      "metadata": {
        "id": "uGtpTC93R4BH"
      },
      "execution_count": 43,
      "outputs": []
    },
    {
      "cell_type": "code",
      "source": [
        "#Creating objects of the model\n",
        "log=LogisticRegression()\n",
        "sgd=SGDClassifier()\n",
        "svc=SVC()\n",
        "knn=KNeighborsClassifier()\n",
        "dtc=DecisionTreeClassifier()\n",
        "rfc=RandomForestClassifier()\n",
        "gbc=GradientBoostingClassifier()"
      ],
      "metadata": {
        "id": "-2sArA0IR7C4"
      },
      "execution_count": 44,
      "outputs": []
    },
    {
      "cell_type": "markdown",
      "source": [
        "#Training the data using above models"
      ],
      "metadata": {
        "id": "zcDdOx1o1vth"
      }
    },
    {
      "cell_type": "code",
      "source": [
        "log.fit(X_train,y_train)\n",
        "sgd.fit(X_train,y_train)\n",
        "svc.fit(X_train,y_train)\n",
        "knn.fit(X_train,y_train)\n",
        "dtc.fit(X_train,y_train)\n",
        "rfc.fit(X_train,y_train)\n",
        "gbc.fit(X_train,y_train)\n"
      ],
      "metadata": {
        "colab": {
          "base_uri": "https://localhost:8080/"
        },
        "id": "nPDadsDRR7ag",
        "outputId": "019cb78e-0219-43cc-c6f5-06f036fdfccb"
      },
      "execution_count": 45,
      "outputs": [
        {
          "output_type": "execute_result",
          "data": {
            "text/plain": [
              "GradientBoostingClassifier()"
            ]
          },
          "metadata": {},
          "execution_count": 45
        }
      ]
    },
    {
      "cell_type": "code",
      "source": [
        "yp1=log.predict(X_test)\n",
        "yp2=sgd.predict(X_test)\n",
        "yp3=svc.predict(X_test)\n",
        "yp4=knn.predict(X_test)\n",
        "yp5=dtc.predict(X_test)\n",
        "yp6=rfc.predict(X_test)\n",
        "yp7=gbc.predict(X_test)"
      ],
      "metadata": {
        "id": "NiXBoyYBSCa0"
      },
      "execution_count": 46,
      "outputs": []
    },
    {
      "cell_type": "code",
      "source": [
        "#Calculating train-score of all models i.e:Accuracy\n",
        "str1=log.score(X_train,y_train)\n",
        "str2=sgd.score(X_train,y_train)\n",
        "str3=svc.score(X_train,y_train)\n",
        "str4=knn.score(X_train,y_train)\n",
        "str5=dtc.score(X_train,y_train)\n",
        "str6=rfc.score(X_train,y_train)\n",
        "str7=gbc.score(X_train,y_train)\n",
        "trainscore=[str1,str2,str3,str4,str5,str6,str7]\n",
        "trainscore"
      ],
      "metadata": {
        "colab": {
          "base_uri": "https://localhost:8080/"
        },
        "id": "d4J2B6i0R7dB",
        "outputId": "3113ce92-6509-43e1-85d9-5b85219d4314"
      },
      "execution_count": 47,
      "outputs": [
        {
          "output_type": "execute_result",
          "data": {
            "text/plain": [
              "[0.7819148936170213,\n",
              " 0.7659574468085106,\n",
              " 0.8599290780141844,\n",
              " 0.8209219858156028,\n",
              " 1.0,\n",
              " 1.0,\n",
              " 0.9946808510638298]"
            ]
          },
          "metadata": {},
          "execution_count": 47
        }
      ]
    },
    {
      "cell_type": "code",
      "source": [
        "#Calculating test-score of all models i.e:Accuracy\n",
        "st1=log.score(X_test,y_test)\n",
        "st2=sgd.score(X_test,y_test)\n",
        "st3=svc.score(X_test,y_test)\n",
        "st4=knn.score(X_test,y_test)\n",
        "st5=dtc.score(X_test,y_test)\n",
        "st6=rfc.score(X_test,y_test)\n",
        "st7=gbc.score(X_test,y_test)\n",
        "testscore=[st1,st2,st3,st4,st5,st6,st7]\n",
        "testscore"
      ],
      "metadata": {
        "colab": {
          "base_uri": "https://localhost:8080/"
        },
        "id": "3lzV2WlUR7fI",
        "outputId": "d97905d2-9999-4a70-ad72-54155b63edec"
      },
      "execution_count": 48,
      "outputs": [
        {
          "output_type": "execute_result",
          "data": {
            "text/plain": [
              "[0.8226950354609929,\n",
              " 0.75177304964539,\n",
              " 0.7588652482269503,\n",
              " 0.7163120567375887,\n",
              " 0.7021276595744681,\n",
              " 0.7943262411347518,\n",
              " 0.7801418439716312]"
            ]
          },
          "metadata": {},
          "execution_count": 48
        }
      ]
    },
    {
      "cell_type": "markdown",
      "source": [],
      "metadata": {
        "id": "xHmdvOuwrKrk"
      }
    },
    {
      "cell_type": "code",
      "source": [
        "#By plotting the train and test scores find out the model which got better accuracy\n",
        "import matplotlib.pyplot as plt\n",
        "plt.plot(trainscore,'*g',linestyle='dashdot',label='train')\n",
        "plt.plot(testscore,'ob',linestyle='dashed',label='test')\n",
        "plt.xlabel('Model')\n",
        "plt.ylabel('Accuracy')\n",
        "plt.legend()"
      ],
      "metadata": {
        "colab": {
          "base_uri": "https://localhost:8080/",
          "height": 296
        },
        "id": "Nk6dw0X0R7iW",
        "outputId": "54934aa2-06a5-4bfa-9046-dbee8c015158"
      },
      "execution_count": 49,
      "outputs": [
        {
          "output_type": "execute_result",
          "data": {
            "text/plain": [
              "<matplotlib.legend.Legend at 0x7f0101dd69d0>"
            ]
          },
          "metadata": {},
          "execution_count": 49
        },
        {
          "output_type": "display_data",
          "data": {
            "text/plain": [
              "<Figure size 432x288 with 1 Axes>"
            ],
            "image/png": "[encoded data removed]"
          },
          "metadata": {
            "needs_background": "light"
          }
        }
      ]
    },
    {
      "cell_type": "markdown",
      "source": [
        "From the above plot Logistic Regression got the better accuracy among them.\n",
        "Tune the parameters of the Logistic regression to gain better accuracy for the model."
      ],
      "metadata": {
        "id": "j6kMplx72V0T"
      }
    },
    {
      "cell_type": "markdown",
      "source": [
        "Tuning parameters using Grid search CV to get better scores"
      ],
      "metadata": {
        "id": "WeT7UG20q-XY"
      }
    },
    {
      "cell_type": "code",
      "source": [
        "#from sklearn.model_selection import GridSearchCV\n",
        "#parameters={'penalty':['none'],'solver':['newton-cg','lbfgs','sag','saga'],\n",
        " #           'C':[0.1,0.2,0.5,0.7,0.9,1.0],'l1_ratio':[0.1,0.2,0.5,0.8,0.9]}\n",
        "#gscv=GridSearchCV(LogisticRegression(),param_grid=parameters)\n",
        "#gscv.fit(X_train,y_train)"
      ],
      "metadata": {
        "id": "J3mN8pXLXrWT"
      },
      "execution_count": null,
      "outputs": []
    },
    {
      "cell_type": "code",
      "source": [
        "gscv.best_params_"
      ],
      "metadata": {
        "colab": {
          "base_uri": "https://localhost:8080/"
        },
        "id": "NwVew3iyY0JJ",
        "outputId": "2f3894d9-6dce-4e5f-fa11-5ba2a50443a8"
      },
      "execution_count": null,
      "outputs": [
        {
          "output_type": "execute_result",
          "data": {
            "text/plain": [
              "{'C': 0.1, 'l1_ratio': 0.1, 'penalty': 'none', 'solver': 'saga'}"
            ]
          },
          "metadata": {},
          "execution_count": 169
        }
      ]
    },
    {
      "cell_type": "code",
      "source": [
        "model1=LogisticRegression(C=1.0,l1_ratio=0.8,solver='saga',penalty='none')\n",
        "model1.fit(X_train,y_train)\n",
        "print(model1.score(X_train,y_train))\n",
        "print(model1.score(X_test,y_test))\n"
      ],
      "metadata": {
        "colab": {
          "base_uri": "https://localhost:8080/"
        },
        "id": "Ads7U8CPY4-w",
        "outputId": "2e71a4f2-b97f-409d-c524-354e8d68f303"
      },
      "execution_count": null,
      "outputs": [
        {
          "output_type": "stream",
          "name": "stdout",
          "text": [
            "0.7925531914893617\n",
            "0.851063829787234\n"
          ]
        },
        {
          "output_type": "stream",
          "name": "stderr",
          "text": [
            "/usr/local/lib/python3.7/dist-packages/sklearn/linear_model/_logistic.py:1479: UserWarning: l1_ratio parameter is only used when penalty is 'elasticnet'. Got (penalty=none)\n",
            "  \"(penalty={})\".format(self.penalty)\n",
            "/usr/local/lib/python3.7/dist-packages/sklearn/linear_model/_sag.py:354: ConvergenceWarning: The max_iter was reached which means the coef_ did not converge\n",
            "  ConvergenceWarning,\n"
          ]
        }
      ]
    },
    {
      "cell_type": "code",
      "source": [
        "plot_confusion_matrix(model1,X_test,y_test)"
      ],
      "metadata": {
        "colab": {
          "base_uri": "https://localhost:8080/",
          "height": 351
        },
        "id": "MG6Py5zPZRsT",
        "outputId": "edc69857-1fa8-49b6-c24e-2ea4d5efa1b1"
      },
      "execution_count": null,
      "outputs": [
        {
          "output_type": "stream",
          "name": "stderr",
          "text": [
            "/usr/local/lib/python3.7/dist-packages/sklearn/utils/deprecation.py:87: FutureWarning: Function plot_confusion_matrix is deprecated; Function `plot_confusion_matrix` is deprecated in 1.0 and will be removed in 1.2. Use one of the class methods: ConfusionMatrixDisplay.from_predictions or ConfusionMatrixDisplay.from_estimator.\n",
            "  warnings.warn(msg, category=FutureWarning)\n"
          ]
        },
        {
          "output_type": "execute_result",
          "data": {
            "text/plain": [
              "<sklearn.metrics._plot.confusion_matrix.ConfusionMatrixDisplay at 0x7f47fd17b0d0>"
            ]
          },
          "metadata": {},
          "execution_count": 171
        },
        {
          "output_type": "display_data",
          "data": {
            "text/plain": [
              "<Figure size 432x288 with 2 Axes>"
            ],
            "image/png": "[encoded data removed]"
          },
          "metadata": {
            "needs_background": "light"
          }
        }
      ]
    },
    {
      "cell_type": "markdown",
      "source": [
        "Tuning parameters to get better results"
      ],
      "metadata": {
        "id": "V8H_A7Xnq7G1"
      }
    },
    {
      "cell_type": "markdown",
      "source": [
        "**Building a Final-Model**"
      ],
      "metadata": {
        "id": "03yCoYQTmOZ-"
      }
    },
    {
      "cell_type": "code",
      "source": [
        "#By the above tuning we got the parameters and fit them in the final_model\n",
        "\n",
        "final_model=LogisticRegression(C=1.0,l1_ratio=0.8,solver='saga',penalty='none')\n",
        "final_model.fit(X_train,y_train)"
      ],
      "metadata": {
        "colab": {
          "base_uri": "https://localhost:8080/"
        },
        "id": "Wn7HbL5DmQ6Q",
        "outputId": "7dce5263-ec36-4a8f-db5d-5d27cef8463c"
      },
      "execution_count": null,
      "outputs": [
        {
          "output_type": "stream",
          "name": "stderr",
          "text": [
            "/usr/local/lib/python3.7/dist-packages/sklearn/linear_model/_logistic.py:1479: UserWarning: l1_ratio parameter is only used when penalty is 'elasticnet'. Got (penalty=none)\n",
            "  \"(penalty={})\".format(self.penalty)\n",
            "/usr/local/lib/python3.7/dist-packages/sklearn/linear_model/_sag.py:354: ConvergenceWarning: The max_iter was reached which means the coef_ did not converge\n",
            "  ConvergenceWarning,\n"
          ]
        },
        {
          "output_type": "execute_result",
          "data": {
            "text/plain": [
              "LogisticRegression(l1_ratio=0.8, penalty='none', solver='saga')"
            ]
          },
          "metadata": {},
          "execution_count": 180
        }
      ]
    },
    {
      "cell_type": "markdown",
      "source": [
        "**Calculating accuracy of the test data**"
      ],
      "metadata": {
        "id": "-o-BXd12pWZU"
      }
    },
    {
      "cell_type": "code",
      "source": [
        "accuracy=final_model.score(X_test,y_test)\n",
        "accuracy"
      ],
      "metadata": {
        "colab": {
          "base_uri": "https://localhost:8080/"
        },
        "id": "d8wZHLUTpAcB",
        "outputId": "8d2f988a-6ef8-46d3-9699-5f0fc1667cfe"
      },
      "execution_count": null,
      "outputs": [
        {
          "output_type": "execute_result",
          "data": {
            "text/plain": [
              "0.851063829787234"
            ]
          },
          "metadata": {},
          "execution_count": 181
        }
      ]
    },
    {
      "cell_type": "markdown",
      "source": [
        "**Calculating f1_score of the test data**"
      ],
      "metadata": {
        "id": "FFVgB-9_pPwZ"
      }
    },
    {
      "cell_type": "code",
      "source": [
        "y_pred_final=final_model.predict(X_test)"
      ],
      "metadata": {
        "id": "7OUzLzFimqEy"
      },
      "execution_count": null,
      "outputs": []
    },
    {
      "cell_type": "code",
      "source": [
        "from sklearn.metrics import precision_score,recall_score"
      ],
      "metadata": {
        "id": "Mg4NZrJ6nybR"
      },
      "execution_count": null,
      "outputs": []
    },
    {
      "cell_type": "code",
      "source": [
        "precision=precision_score(y_test, y_pred_final,pos_label='positive',average='micro')\n",
        "recall=recall_score(y_test, y_pred_final,pos_label='positive',average='micro')"
      ],
      "metadata": {
        "colab": {
          "base_uri": "https://localhost:8080/"
        },
        "id": "lRyIw1MdnXRv",
        "outputId": "71375a2c-26e2-46ce-c764-586fd25eebe4"
      },
      "execution_count": null,
      "outputs": [
        {
          "output_type": "stream",
          "name": "stderr",
          "text": [
            "/usr/local/lib/python3.7/dist-packages/sklearn/metrics/_classification.py:1375: UserWarning: Note that pos_label (set to 'positive') is ignored when average != 'binary' (got 'micro'). You may use labels=[pos_label] to specify a single positive class.\n",
            "  UserWarning,\n",
            "/usr/local/lib/python3.7/dist-packages/sklearn/metrics/_classification.py:1375: UserWarning: Note that pos_label (set to 'positive') is ignored when average != 'binary' (got 'micro'). You may use labels=[pos_label] to specify a single positive class.\n",
            "  UserWarning,\n"
          ]
        }
      ]
    },
    {
      "cell_type": "code",
      "source": [
        "f1_score=(2*precision*recall)/(precision+recall)\n",
        "f1_score"
      ],
      "metadata": {
        "colab": {
          "base_uri": "https://localhost:8080/"
        },
        "id": "eOP9tEQ5oHrk",
        "outputId": "cb2a6c3b-70e7-47a5-b7aa-9b35919e7e0b"
      },
      "execution_count": null,
      "outputs": [
        {
          "output_type": "execute_result",
          "data": {
            "text/plain": [
              "0.8510638297872339"
            ]
          },
          "metadata": {},
          "execution_count": 185
        }
      ]
    },
    {
      "cell_type": "markdown",
      "source": [
        "**Plotting Confusion matrix for the test data**"
      ],
      "metadata": {
        "id": "-UHyEkH0poc0"
      }
    },
    {
      "cell_type": "code",
      "source": [
        "plot_confusion_matrix(final_model,X_test,y_test)"
      ],
      "metadata": {
        "colab": {
          "base_uri": "https://localhost:8080/",
          "height": 351
        },
        "id": "3EMwDGv1me04",
        "outputId": "07a0d43a-fcfc-4a33-c573-9f35b62e93d2"
      },
      "execution_count": null,
      "outputs": [
        {
          "output_type": "stream",
          "name": "stderr",
          "text": [
            "/usr/local/lib/python3.7/dist-packages/sklearn/utils/deprecation.py:87: FutureWarning: Function plot_confusion_matrix is deprecated; Function `plot_confusion_matrix` is deprecated in 1.0 and will be removed in 1.2. Use one of the class methods: ConfusionMatrixDisplay.from_predictions or ConfusionMatrixDisplay.from_estimator.\n",
            "  warnings.warn(msg, category=FutureWarning)\n"
          ]
        },
        {
          "output_type": "execute_result",
          "data": {
            "text/plain": [
              "<sklearn.metrics._plot.confusion_matrix.ConfusionMatrixDisplay at 0x7f47fd0878d0>"
            ]
          },
          "metadata": {},
          "execution_count": 186
        },
        {
          "output_type": "display_data",
          "data": {
            "text/plain": [
              "<Figure size 432x288 with 2 Axes>"
            ],
            "image/png": "[encoded data removed]"
          },
          "metadata": {
            "needs_background": "light"
          }
        }
      ]
    },
    {
      "cell_type": "code",
      "source": [
        "X.head(3)"
      ],
      "metadata": {
        "colab": {
          "base_uri": "https://localhost:8080/",
          "height": 143
        },
        "id": "a7g9vjyGZiWs",
        "outputId": "0dedaa3f-07d5-4a2c-e012-9855b6d5ccc3"
      },
      "execution_count": null,
      "outputs": [
        {
          "output_type": "execute_result",
          "data": {
            "text/plain": [
              "   Comp  Circ  D.Circ  Rad.Ra  Pr.Axis.Ra  Max.L.Ra  Elong  Max.L.Rect  \\\n",
              "0    88    39      70     166          66         7     44         134   \n",
              "1    85    35      64     129          57         6     57         125   \n",
              "2    91    41      84     141          57         9     45         143   \n",
              "\n",
              "   Sc.Var.maxis  Ra.Gyr  Skew.Maxis  Skew.maxis  Kurt.maxis  Kurt.Maxis  \n",
              "0           332     143          69           5          13         193  \n",
              "1           200     123          65           1          23         196  \n",
              "2           330     158          72           9          14         189  "
            ],
            "text/html": [
              "\n",
              "  <div id=\"df-7bd972f7-9a56-4ff8-93cc-5b9d631cc87a\">\n",
              "    <div class=\"colab-df-container\">\n",
              "      <div>\n",
              "<style scoped>\n",
              "    .dataframe tbody tr th:only-of-type {\n",
              "        vertical-align: middle;\n",
              "    }\n",
              "\n",
              "    .dataframe tbody tr th {\n",
              "        vertical-align: top;\n",
              "    }\n",
              "\n",
              "    .dataframe thead th {\n",
              "        text-align: right;\n",
              "    }\n",
              "</style>\n",
              "<table border=\"1\" class=\"dataframe\">\n",
              "  <thead>\n",
              "    <tr style=\"text-align: right;\">\n",
              "      <th></th>\n",
              "      <th>Comp</th>\n",
              "      <th>Circ</th>\n",
              "      <th>D.Circ</th>\n",
              "      <th>Rad.Ra</th>\n",
              "      <th>Pr.Axis.Ra</th>\n",
              "      <th>Max.L.Ra</th>\n",
              "      <th>Elong</th>\n",
              "      <th>Max.L.Rect</th>\n",
              "      <th>Sc.Var.maxis</th>\n",
              "      <th>Ra.Gyr</th>\n",
              "      <th>Skew.Maxis</th>\n",
              "      <th>Skew.maxis</th>\n",
              "      <th>Kurt.maxis</th>\n",
              "      <th>Kurt.Maxis</th>\n",
              "    </tr>\n",
              "  </thead>\n",
              "  <tbody>\n",
              "    <tr>\n",
              "      <th>0</th>\n",
              "      <td>88</td>\n",
              "      <td>39</td>\n",
              "      <td>70</td>\n",
              "      <td>166</td>\n",
              "      <td>66</td>\n",
              "      <td>7</td>\n",
              "      <td>44</td>\n",
              "      <td>134</td>\n",
              "      <td>332</td>\n",
              "      <td>143</td>\n",
              "      <td>69</td>\n",
              "      <td>5</td>\n",
              "      <td>13</td>\n",
              "      <td>193</td>\n",
              "    </tr>\n",
              "    <tr>\n",
              "      <th>1</th>\n",
              "      <td>85</td>\n",
              "      <td>35</td>\n",
              "      <td>64</td>\n",
              "      <td>129</td>\n",
              "      <td>57</td>\n",
              "      <td>6</td>\n",
              "      <td>57</td>\n",
              "      <td>125</td>\n",
              "      <td>200</td>\n",
              "      <td>123</td>\n",
              "      <td>65</td>\n",
              "      <td>1</td>\n",
              "      <td>23</td>\n",
              "      <td>196</td>\n",
              "    </tr>\n",
              "    <tr>\n",
              "      <th>2</th>\n",
              "      <td>91</td>\n",
              "      <td>41</td>\n",
              "      <td>84</td>\n",
              "      <td>141</td>\n",
              "      <td>57</td>\n",
              "      <td>9</td>\n",
              "      <td>45</td>\n",
              "      <td>143</td>\n",
              "      <td>330</td>\n",
              "      <td>158</td>\n",
              "      <td>72</td>\n",
              "      <td>9</td>\n",
              "      <td>14</td>\n",
              "      <td>189</td>\n",
              "    </tr>\n",
              "  </tbody>\n",
              "</table>\n",
              "</div>\n",
              "      <button class=\"colab-df-convert\" onclick=\"convertToInteractive('df-7bd972f7-9a56-4ff8-93cc-5b9d631cc87a')\"\n",
              "              title=\"Convert this dataframe to an interactive table.\"\n",
              "              style=\"display:none;\">\n",
              "        \n",
              "  <svg xmlns=\"http://www.w3.org/2000/svg\" height=\"24px\"viewBox=\"0 0 24 24\"\n",
              "       width=\"24px\">\n",
              "    <path d=\"M0 0h24v24H0V0z\" fill=\"none\"/>\n",
              "    <path d=\"M18.56 5.44l.94 2.06.94-2.06 2.06-.94-2.06-.94-.94-2.06-.94 2.06-2.06.94zm-11 1L8.5 8.5l.94-2.06 2.06-.94-2.06-.94L8.5 2.5l-.94 2.06-2.06.94zm10 10l.94 2.06.94-2.06 2.06-.94-2.06-.94-.94-2.06-.94 2.06-2.06.94z\"/><path d=\"M17.41 7.96l-1.37-1.37c-.4-.4-.92-.59-1.43-.59-.52 0-1.04.2-1.43.59L10.3 9.45l-7.72 7.72c-.78.78-.78 2.05 0 2.83L4 21.41c.39.39.9.59 1.41.59.51 0 1.02-.2 1.41-.59l7.78-7.78 2.81-2.81c.8-.78.8-2.07 0-2.86zM5.41 20L4 18.59l7.72-7.72 1.47 1.35L5.41 20z\"/>\n",
              "  </svg>\n",
              "      </button>\n",
              "      \n",
              "  <style>\n",
              "    .colab-df-container {\n",
              "      display:flex;\n",
              "      flex-wrap:wrap;\n",
              "      gap: 12px;\n",
              "    }\n",
              "\n",
              "    .colab-df-convert {\n",
              "      background-color: #E8F0FE;\n",
              "      border: none;\n",
              "      border-radius: 50%;\n",
              "      cursor: pointer;\n",
              "      display: none;\n",
              "      fill: #1967D2;\n",
              "      height: 32px;\n",
              "      padding: 0 0 0 0;\n",
              "      width: 32px;\n",
              "    }\n",
              "\n",
              "    .colab-df-convert:hover {\n",
              "      background-color: #E2EBFA;\n",
              "      box-shadow: 0px 1px 2px rgba(60, 64, 67, 0.3), 0px 1px 3px 1px rgba(60, 64, 67, 0.15);\n",
              "      fill: #174EA6;\n",
              "    }\n",
              "\n",
              "    [theme=dark] .colab-df-convert {\n",
              "      background-color: #3B4455;\n",
              "      fill: #D2E3FC;\n",
              "    }\n",
              "\n",
              "    [theme=dark] .colab-df-convert:hover {\n",
              "      background-color: #434B5C;\n",
              "      box-shadow: 0px 1px 3px 1px rgba(0, 0, 0, 0.15);\n",
              "      filter: drop-shadow(0px 1px 2px rgba(0, 0, 0, 0.3));\n",
              "      fill: #FFFFFF;\n",
              "    }\n",
              "  </style>\n",
              "\n",
              "      <script>\n",
              "        const buttonEl =\n",
              "          document.querySelector('#df-7bd972f7-9a56-4ff8-93cc-5b9d631cc87a button.colab-df-convert');\n",
              "        buttonEl.style.display =\n",
              "          google.colab.kernel.accessAllowed ? 'block' : 'none';\n",
              "\n",
              "        async function convertToInteractive(key) {\n",
              "          const element = document.querySelector('#df-7bd972f7-9a56-4ff8-93cc-5b9d631cc87a');\n",
              "          const dataTable =\n",
              "            await google.colab.kernel.invokeFunction('convertToInteractive',\n",
              "                                                     [key], {});\n",
              "          if (!dataTable) return;\n",
              "\n",
              "          const docLinkHtml = 'Like what you see? Visit the ' +\n",
              "            '<a target=\"_blank\" href=https://colab.research.google.com/notebooks/data_table.ipynb>data table notebook</a>'\n",
              "            + ' to learn more about interactive tables.';\n",
              "          element.innerHTML = '';\n",
              "          dataTable['output_type'] = 'display_data';\n",
              "          await google.colab.output.renderOutput(dataTable, element);\n",
              "          const docLink = document.createElement('div');\n",
              "          docLink.innerHTML = docLinkHtml;\n",
              "          element.appendChild(docLink);\n",
              "        }\n",
              "      </script>\n",
              "    </div>\n",
              "  </div>\n",
              "  "
            ]
          },
          "metadata": {},
          "execution_count": 187
        }
      ]
    },
    {
      "cell_type": "code",
      "source": [
        "y.head(3)"
      ],
      "metadata": {
        "colab": {
          "base_uri": "https://localhost:8080/"
        },
        "id": "SYqzIbVpbrmU",
        "outputId": "1124aa5b-cf2b-4010-b2db-ae1fe5e615f9"
      },
      "execution_count": null,
      "outputs": [
        {
          "output_type": "execute_result",
          "data": {
            "text/plain": [
              "0    0\n",
              "1    3\n",
              "2    3\n",
              "Name: Class, dtype: int64"
            ]
          },
          "metadata": {},
          "execution_count": 188
        }
      ]
    },
    {
      "cell_type": "markdown",
      "source": [
        "**Predicting class of car for new instance**"
      ],
      "metadata": {
        "id": "9hUcc3PIqC18"
      }
    },
    {
      "cell_type": "code",
      "source": [
        "l1=[[85,35,64,129,57,6,57,125,200,123,65,1,23,196]]\n",
        "\n",
        "new=pd.DataFrame(l1,columns=['Comp', 'Circ', 'D.Circ', 'Rad.Ra', 'Pr.Axis.Ra', 'Max.L.Ra', 'Elong', 'Max.L.Rect', 'Sc.Var.maxis', 'Ra.Gyr', 'Skew.Maxis', 'Skew.maxis', 'Kurt.maxis','Kurt.Maxis'])\n",
        "new"
      ],
      "metadata": {
        "colab": {
          "base_uri": "https://localhost:8080/",
          "height": 81
        },
        "id": "Gyv9jYojZq96",
        "outputId": "bc04788c-586c-4a5f-c405-8b66a3210c36"
      },
      "execution_count": null,
      "outputs": [
        {
          "output_type": "execute_result",
          "data": {
            "text/plain": [
              "   Comp  Circ  D.Circ  Rad.Ra  Pr.Axis.Ra  Max.L.Ra  Elong  Max.L.Rect  \\\n",
              "0    85    35      64     129          57         6     57         125   \n",
              "\n",
              "   Sc.Var.maxis  Ra.Gyr  Skew.Maxis  Skew.maxis  Kurt.maxis  Kurt.Maxis  \n",
              "0           200     123          65           1          23         196  "
            ],
            "text/html": [
              "\n",
              "  <div id=\"df-203230f1-fadb-49a1-aa66-d6c3945938e0\">\n",
              "    <div class=\"colab-df-container\">\n",
              "      <div>\n",
              "<style scoped>\n",
              "    .dataframe tbody tr th:only-of-type {\n",
              "        vertical-align: middle;\n",
              "    }\n",
              "\n",
              "    .dataframe tbody tr th {\n",
              "        vertical-align: top;\n",
              "    }\n",
              "\n",
              "    .dataframe thead th {\n",
              "        text-align: right;\n",
              "    }\n",
              "</style>\n",
              "<table border=\"1\" class=\"dataframe\">\n",
              "  <thead>\n",
              "    <tr style=\"text-align: right;\">\n",
              "      <th></th>\n",
              "      <th>Comp</th>\n",
              "      <th>Circ</th>\n",
              "      <th>D.Circ</th>\n",
              "      <th>Rad.Ra</th>\n",
              "      <th>Pr.Axis.Ra</th>\n",
              "      <th>Max.L.Ra</th>\n",
              "      <th>Elong</th>\n",
              "      <th>Max.L.Rect</th>\n",
              "      <th>Sc.Var.maxis</th>\n",
              "      <th>Ra.Gyr</th>\n",
              "      <th>Skew.Maxis</th>\n",
              "      <th>Skew.maxis</th>\n",
              "      <th>Kurt.maxis</th>\n",
              "      <th>Kurt.Maxis</th>\n",
              "    </tr>\n",
              "  </thead>\n",
              "  <tbody>\n",
              "    <tr>\n",
              "      <th>0</th>\n",
              "      <td>85</td>\n",
              "      <td>35</td>\n",
              "      <td>64</td>\n",
              "      <td>129</td>\n",
              "      <td>57</td>\n",
              "      <td>6</td>\n",
              "      <td>57</td>\n",
              "      <td>125</td>\n",
              "      <td>200</td>\n",
              "      <td>123</td>\n",
              "      <td>65</td>\n",
              "      <td>1</td>\n",
              "      <td>23</td>\n",
              "      <td>196</td>\n",
              "    </tr>\n",
              "  </tbody>\n",
              "</table>\n",
              "</div>\n",
              "      <button class=\"colab-df-convert\" onclick=\"convertToInteractive('df-203230f1-fadb-49a1-aa66-d6c3945938e0')\"\n",
              "              title=\"Convert this dataframe to an interactive table.\"\n",
              "              style=\"display:none;\">\n",
              "        \n",
              "  <svg xmlns=\"http://www.w3.org/2000/svg\" height=\"24px\"viewBox=\"0 0 24 24\"\n",
              "       width=\"24px\">\n",
              "    <path d=\"M0 0h24v24H0V0z\" fill=\"none\"/>\n",
              "    <path d=\"M18.56 5.44l.94 2.06.94-2.06 2.06-.94-2.06-.94-.94-2.06-.94 2.06-2.06.94zm-11 1L8.5 8.5l.94-2.06 2.06-.94-2.06-.94L8.5 2.5l-.94 2.06-2.06.94zm10 10l.94 2.06.94-2.06 2.06-.94-2.06-.94-.94-2.06-.94 2.06-2.06.94z\"/><path d=\"M17.41 7.96l-1.37-1.37c-.4-.4-.92-.59-1.43-.59-.52 0-1.04.2-1.43.59L10.3 9.45l-7.72 7.72c-.78.78-.78 2.05 0 2.83L4 21.41c.39.39.9.59 1.41.59.51 0 1.02-.2 1.41-.59l7.78-7.78 2.81-2.81c.8-.78.8-2.07 0-2.86zM5.41 20L4 18.59l7.72-7.72 1.47 1.35L5.41 20z\"/>\n",
              "  </svg>\n",
              "      </button>\n",
              "      \n",
              "  <style>\n",
              "    .colab-df-container {\n",
              "      display:flex;\n",
              "      flex-wrap:wrap;\n",
              "      gap: 12px;\n",
              "    }\n",
              "\n",
              "    .colab-df-convert {\n",
              "      background-color: #E8F0FE;\n",
              "      border: none;\n",
              "      border-radius: 50%;\n",
              "      cursor: pointer;\n",
              "      display: none;\n",
              "      fill: #1967D2;\n",
              "      height: 32px;\n",
              "      padding: 0 0 0 0;\n",
              "      width: 32px;\n",
              "    }\n",
              "\n",
              "    .colab-df-convert:hover {\n",
              "      background-color: #E2EBFA;\n",
              "      box-shadow: 0px 1px 2px rgba(60, 64, 67, 0.3), 0px 1px 3px 1px rgba(60, 64, 67, 0.15);\n",
              "      fill: #174EA6;\n",
              "    }\n",
              "\n",
              "    [theme=dark] .colab-df-convert {\n",
              "      background-color: #3B4455;\n",
              "      fill: #D2E3FC;\n",
              "    }\n",
              "\n",
              "    [theme=dark] .colab-df-convert:hover {\n",
              "      background-color: #434B5C;\n",
              "      box-shadow: 0px 1px 3px 1px rgba(0, 0, 0, 0.15);\n",
              "      filter: drop-shadow(0px 1px 2px rgba(0, 0, 0, 0.3));\n",
              "      fill: #FFFFFF;\n",
              "    }\n",
              "  </style>\n",
              "\n",
              "      <script>\n",
              "        const buttonEl =\n",
              "          document.querySelector('#df-203230f1-fadb-49a1-aa66-d6c3945938e0 button.colab-df-convert');\n",
              "        buttonEl.style.display =\n",
              "          google.colab.kernel.accessAllowed ? 'block' : 'none';\n",
              "\n",
              "        async function convertToInteractive(key) {\n",
              "          const element = document.querySelector('#df-203230f1-fadb-49a1-aa66-d6c3945938e0');\n",
              "          const dataTable =\n",
              "            await google.colab.kernel.invokeFunction('convertToInteractive',\n",
              "                                                     [key], {});\n",
              "          if (!dataTable) return;\n",
              "\n",
              "          const docLinkHtml = 'Like what you see? Visit the ' +\n",
              "            '<a target=\"_blank\" href=https://colab.research.google.com/notebooks/data_table.ipynb>data table notebook</a>'\n",
              "            + ' to learn more about interactive tables.';\n",
              "          element.innerHTML = '';\n",
              "          dataTable['output_type'] = 'display_data';\n",
              "          await google.colab.output.renderOutput(dataTable, element);\n",
              "          const docLink = document.createElement('div');\n",
              "          docLink.innerHTML = docLinkHtml;\n",
              "          element.appendChild(docLink);\n",
              "        }\n",
              "      </script>\n",
              "    </div>\n",
              "  </div>\n",
              "  "
            ]
          },
          "metadata": {},
          "execution_count": 189
        }
      ]
    },
    {
      "cell_type": "code",
      "source": [
        "y_pred=model1.predict(new)\n",
        "y_pred"
      ],
      "metadata": {
        "colab": {
          "base_uri": "https://localhost:8080/"
        },
        "id": "6NclXvKHZsIX",
        "outputId": "6ad5f07b-ae03-4c9e-e574-309ea572c893"
      },
      "execution_count": null,
      "outputs": [
        {
          "output_type": "stream",
          "name": "stderr",
          "text": [
            "/usr/local/lib/python3.7/dist-packages/sklearn/base.py:444: UserWarning: X has feature names, but LogisticRegression was fitted without feature names\n",
            "  f\"X has feature names, but {self.__class__.__name__} was fitted without\"\n"
          ]
        },
        {
          "output_type": "execute_result",
          "data": {
            "text/plain": [
              "array([3])"
            ]
          },
          "metadata": {},
          "execution_count": 190
        }
      ]
    },
    {
      "cell_type": "markdown",
      "source": [
        "The predicted value for class of car comes out to be class-3."
      ],
      "metadata": {
        "id": "_IMPG8SZqMLf"
      }
    }
  ]
}